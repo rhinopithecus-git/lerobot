{
 "cells": [
  {
   "cell_type": "markdown",
   "id": "a44c9d5a",
   "metadata": {},
   "source": [
    "## Import packages and load Huggingface Credentials"
   ]
  },
  {
   "cell_type": "code",
   "execution_count": 9,
   "id": "66ebc8ca",
   "metadata": {},
   "outputs": [],
   "source": [
    "import os\n",
    "import subprocess\n",
    "from dotenv import load_dotenv\n",
    "from datetime import datetime\n",
    "import wandb\n",
    "\n",
    "from huggingface_hub import HfApi\n",
    "from lerobot.common.datasets.lerobot_dataset import MultiLeRobotDataset"
   ]
  },
  {
   "cell_type": "code",
   "execution_count": 10,
   "id": "72269e64",
   "metadata": {},
   "outputs": [
    {
     "name": "stderr",
     "output_type": "stream",
     "text": [
      "Token is valid (permission: write).\n",
      "The token `lerobot` has been saved to /Users/jonas/.cache/huggingface/stored_tokens\n",
      "Your token has been saved in your configured git credential helpers (osxkeychain).\n",
      "Your token has been saved to /Users/jonas/.cache/huggingface/token\n",
      "Login successful.\n",
      "The current active token is: `lerobot`\n"
     ]
    },
    {
     "name": "stdout",
     "output_type": "stream",
     "text": [
      "Hugging Face user: rhinopithecus\n"
     ]
    }
   ],
   "source": [
    "# Get the token from environment variable\n",
    "hf_token = os.getenv(\"HUGGINGFACE_TOKEN\")\n",
    "if not hf_token:\n",
    "    raise ValueError(\"HUGGINGFACE_TOKEN not found in environment variables\")\n",
    "\n",
    "# Log in to Hugging Face CLI with token\n",
    "subprocess.run(\n",
    "    [\"huggingface-cli\", \"login\", \"--token\", hf_token, \"--add-to-git-credential\"],\n",
    "    check=True\n",
    ")\n",
    "\n",
    "# Get the current HF username\n",
    "result = subprocess.run(\n",
    "    [\"huggingface-cli\", \"whoami\"],\n",
    "    capture_output=True,\n",
    "    text=True,\n",
    "    check=True\n",
    ")\n",
    "hf_user = result.stdout.strip().splitlines()[0]\n",
    "print(f\"Hugging Face user: {hf_user}\")"
   ]
  },
  {
   "cell_type": "code",
   "execution_count": 11,
   "id": "ca5e2fff",
   "metadata": {},
   "outputs": [
    {
     "name": "stderr",
     "output_type": "stream",
     "text": [
      "\u001b[34m\u001b[1mwandb\u001b[0m: \u001b[33mWARNING\u001b[0m If you're specifying your api key in code, ensure this code is not shared publicly.\n",
      "\u001b[34m\u001b[1mwandb\u001b[0m: \u001b[33mWARNING\u001b[0m Consider setting the WANDB_API_KEY environment variable, or running `wandb login` from the command line.\n",
      "\u001b[34m\u001b[1mwandb\u001b[0m: Appending key for api.wandb.ai to your netrc file: /Users/jonas/.netrc\n"
     ]
    },
    {
     "data": {
      "text/plain": [
       "True"
      ]
     },
     "execution_count": 11,
     "metadata": {},
     "output_type": "execute_result"
    }
   ],
   "source": [
    "# Log in to W&B\n",
    "wandb.login(key=os.getenv(\"WANDB_TOKEN\"))"
   ]
  },
  {
   "cell_type": "markdown",
   "id": "c212df59",
   "metadata": {},
   "source": [
    "## Data Recording"
   ]
  },
  {
   "cell_type": "code",
   "execution_count": 28,
   "id": "104ad506",
   "metadata": {},
   "outputs": [
    {
     "name": "stderr",
     "output_type": "stream",
     "text": [
      "\u001b[90m[\u001b[0m2025-06-19T08:56:40Z \u001b[32mINFO \u001b[0m re_grpc_server\u001b[90m]\u001b[0m Listening for gRPC connections on 0.0.0.0:9876. Connect by running `rerun --connect rerun+http://127.0.0.1:9876/proxy`\n",
      "2025-06-19 10:56:40.757 python[15112:2023553] WARNING: AVCaptureDeviceTypeExternal is deprecated for Continuity Cameras. Please use AVCaptureDeviceTypeContinuityCamera and add NSCameraUseContinuityCameraDeviceType to your Info.plist.\n",
      "WARNING 2025-06-19 10:56:43 l/darwin.py:211 This process is not trusted! Input event monitoring will not be possible until it is added to accessibility clients.\n",
      "/Users/jonas/Projects/lerobot/lerobot/record.py:212: DeprecationWarning: since 0.23.0: Use `Scalars` instead.\n",
      "  rr.log(f\"observation.{obs}\", rr.Scalar(val))\n",
      "/Users/jonas/Projects/lerobot/lerobot/record.py:217: DeprecationWarning: since 0.23.0: Use `Scalars` instead.\n",
      "  rr.log(f\"action.{act}\", rr.Scalar(val))\n",
      "\u001b[90m[\u001b[0m2025-06-19T08:56:57Z \u001b[32mINFO \u001b[0m re_viewer::app\u001b[90m]\u001b[0m Reached memory limit of 1.6 GiB, dropping oldest data.\n"
     ]
    },
    {
     "name": "stdout",
     "output_type": "stream",
     "text": [
      "Right arrow key pressed. Exiting loop...\n"
     ]
    },
    {
     "name": "stderr",
     "output_type": "stream",
     "text": [
      "/Users/jonas/Projects/lerobot/lerobot/record.py:212: DeprecationWarning: since 0.23.0: Use `Scalars` instead.\n",
      "  rr.log(f\"observation.{obs}\", rr.Scalar(val))\n",
      "/Users/jonas/Projects/lerobot/lerobot/record.py:217: DeprecationWarning: since 0.23.0: Use `Scalars` instead.\n",
      "  rr.log(f\"action.{act}\", rr.Scalar(val))\n"
     ]
    },
    {
     "name": "stdout",
     "output_type": "stream",
     "text": [
      "Right arrow key pressed. Exiting loop...\n"
     ]
    },
    {
     "name": "stderr",
     "output_type": "stream",
     "text": [
      "Map: 100%|██████████| 538/538 [00:00<00:00, 6593.06 examples/s]\n",
      "Creating parquet from Arrow format: 100%|██████████| 1/1 [00:00<00:00, 1788.62ba/s]\n",
      "Svt[info]: -------------------------------------------\n",
      "Svt[info]: SVT [version]:\tSVT-AV1 Encoder Lib v3.0.0\n",
      "Svt[info]: SVT [build]  :\tApple LLVM 15.0.0 (clang-1500.3.9.4)\t 64 bit\n",
      "Svt[info]: LIB Build date: May 16 2025 15:44:08\n",
      "Svt[info]: -------------------------------------------\n",
      "Svt[info]: Level of Parallelism: 4\n",
      "Svt[info]: Number of PPCS 59\n",
      "Svt[info]: [asm level on system : up to neon_i8mm]\n",
      "Svt[info]: [asm level selected : up to neon_i8mm]\n",
      "Svt[info]: -------------------------------------------\n",
      "Svt[info]: SVT [config]: main profile\ttier (auto)\tlevel (auto)\n",
      "Svt[info]: SVT [config]: width / height / fps numerator / fps denominator \t\t: 1920 / 1080 / 30 / 1\n",
      "Svt[info]: SVT [config]: bit-depth / color format \t\t\t\t\t: 8 / YUV420\n",
      "Svt[info]: SVT [config]: preset / tune / pred struct \t\t\t\t\t: 8 / PSNR / random access\n",
      "Svt[info]: SVT [config]: gop size / mini-gop size / key-frame type \t\t\t: 2 / 16 / key frame\n",
      "Svt[info]: SVT [config]: BRC mode / rate factor \t\t\t\t\t: CRF / 30 \n",
      "Svt[info]: SVT [config]: AQ mode / variance boost \t\t\t\t\t: 2 / 0\n",
      "Svt[info]: SVT [config]: sharpness / luminance-based QP bias \t\t\t: 0 / 0\n",
      "Svt[info]: Svt[info]: -------------------------------------------\n",
      "/Users/jonas/Projects/lerobot/lerobot/record.py:212: DeprecationWarning: since 0.23.0: Use `Scalars` instead.\n",
      "  rr.log(f\"observation.{obs}\", rr.Scalar(val))\n",
      "/Users/jonas/Projects/lerobot/lerobot/record.py:217: DeprecationWarning: since 0.23.0: Use `Scalars` instead.\n",
      "  rr.log(f\"action.{act}\", rr.Scalar(val))\n",
      "\u001b[90m[\u001b[0m2025-06-19T08:57:45Z \u001b[32mINFO \u001b[0m re_grpc_server\u001b[90m]\u001b[0m Memory limit (4.0 GiB) exceeded. Dropping old log messages from the server. Clients connecting after this will not see the full history.\n"
     ]
    },
    {
     "name": "stdout",
     "output_type": "stream",
     "text": [
      "Right arrow key pressed. Exiting loop...\n"
     ]
    },
    {
     "name": "stderr",
     "output_type": "stream",
     "text": [
      "/Users/jonas/Projects/lerobot/lerobot/record.py:212: DeprecationWarning: since 0.23.0: Use `Scalars` instead.\n",
      "  rr.log(f\"observation.{obs}\", rr.Scalar(val))\n",
      "/Users/jonas/Projects/lerobot/lerobot/record.py:217: DeprecationWarning: since 0.23.0: Use `Scalars` instead.\n",
      "  rr.log(f\"action.{act}\", rr.Scalar(val))\n"
     ]
    },
    {
     "name": "stdout",
     "output_type": "stream",
     "text": [
      "Right arrow key pressed. Exiting loop...\n"
     ]
    },
    {
     "name": "stderr",
     "output_type": "stream",
     "text": [
      "Map: 100%|██████████| 636/636 [00:00<00:00, 6811.63 examples/s]\n",
      "Creating parquet from Arrow format: 100%|██████████| 1/1 [00:00<00:00, 1791.67ba/s]\n",
      "Svt[info]: -------------------------------------------\n",
      "Svt[info]: SVT [version]:\tSVT-AV1 Encoder Lib v3.0.0\n",
      "Svt[info]: SVT [build]  :\tApple LLVM 15.0.0 (clang-1500.3.9.4)\t 64 bit\n",
      "Svt[info]: LIB Build date: May 16 2025 15:44:08\n",
      "Svt[info]: -------------------------------------------\n",
      "Svt[info]: Level of Parallelism: 4\n",
      "Svt[info]: Number of PPCS 59\n",
      "Svt[info]: [asm level on system : up to neon_i8mm]\n",
      "Svt[info]: [asm level selected : up to neon_i8mm]\n",
      "Svt[info]: -------------------------------------------\n",
      "Svt[info]: SVT [config]: main profile\ttier (auto)\tlevel (auto)\n",
      "Svt[info]: SVT [config]: width / height / fps numerator / fps denominator \t\t: 1920 / 1080 / 30 / 1\n",
      "Svt[info]: SVT [config]: bit-depth / color format \t\t\t\t\t: 8 / YUV420\n",
      "Svt[info]: SVT [config]: preset / tune / pred struct \t\t\t\t\t: 8 / PSNR / random access\n",
      "Svt[info]: SVT [config]: gop size / mini-gop size / key-frame type \t\t\t: 2 / 16 / key frame\n",
      "Svt[info]: SVT [config]: BRC mode / rate factor \t\t\t\t\t: CRF / 30 \n",
      "Svt[info]: SVT [config]: AQ mode / variance boost \t\t\t\t\t: 2 / 0\n",
      "Svt[info]: SVT [config]: sharpness / luminance-based QP bias \t\t\t: 0 / 0\n",
      "Svt[info]: Svt[info]: -------------------------------------------\n",
      "/Users/jonas/Projects/lerobot/lerobot/record.py:212: DeprecationWarning: since 0.23.0: Use `Scalars` instead.\n",
      "  rr.log(f\"observation.{obs}\", rr.Scalar(val))\n",
      "/Users/jonas/Projects/lerobot/lerobot/record.py:217: DeprecationWarning: since 0.23.0: Use `Scalars` instead.\n",
      "  rr.log(f\"action.{act}\", rr.Scalar(val))\n"
     ]
    },
    {
     "name": "stdout",
     "output_type": "stream",
     "text": [
      "Right arrow key pressed. Exiting loop...\n"
     ]
    },
    {
     "name": "stderr",
     "output_type": "stream",
     "text": [
      "/Users/jonas/Projects/lerobot/lerobot/record.py:212: DeprecationWarning: since 0.23.0: Use `Scalars` instead.\n",
      "  rr.log(f\"observation.{obs}\", rr.Scalar(val))\n",
      "/Users/jonas/Projects/lerobot/lerobot/record.py:217: DeprecationWarning: since 0.23.0: Use `Scalars` instead.\n",
      "  rr.log(f\"action.{act}\", rr.Scalar(val))\n"
     ]
    },
    {
     "name": "stdout",
     "output_type": "stream",
     "text": [
      "Right arrow key pressed. Exiting loop...\n"
     ]
    },
    {
     "name": "stderr",
     "output_type": "stream",
     "text": [
      "Map: 100%|██████████| 628/628 [00:00<00:00, 7022.32 examples/s]\n",
      "Creating parquet from Arrow format: 100%|██████████| 1/1 [00:00<00:00, 1855.89ba/s]\n",
      "Svt[info]: -------------------------------------------\n",
      "Svt[info]: SVT [version]:\tSVT-AV1 Encoder Lib v3.0.0\n",
      "Svt[info]: SVT [build]  :\tApple LLVM 15.0.0 (clang-1500.3.9.4)\t 64 bit\n",
      "Svt[info]: LIB Build date: May 16 2025 15:44:08\n",
      "Svt[info]: -------------------------------------------\n",
      "Svt[info]: Level of Parallelism: 4\n",
      "Svt[info]: Number of PPCS 59\n",
      "Svt[info]: [asm level on system : up to neon_i8mm]\n",
      "Svt[info]: [asm level selected : up to neon_i8mm]\n",
      "Svt[info]: -------------------------------------------\n",
      "Svt[info]: SVT [config]: main profile\ttier (auto)\tlevel (auto)\n",
      "Svt[info]: SVT [config]: width / height / fps numerator / fps denominator \t\t: 1920 / 1080 / 30 / 1\n",
      "Svt[info]: SVT [config]: bit-depth / color format \t\t\t\t\t: 8 / YUV420\n",
      "Svt[info]: SVT [config]: preset / tune / pred struct \t\t\t\t\t: 8 / PSNR / random access\n",
      "Svt[info]: SVT [config]: gop size / mini-gop size / key-frame type \t\t\t: 2 / 16 / key frame\n",
      "Svt[info]: SVT [config]: BRC mode / rate factor \t\t\t\t\t: CRF / 30 \n",
      "Svt[info]: SVT [config]: AQ mode / variance boost \t\t\t\t\t: 2 / 0\n",
      "Svt[info]: SVT [config]: sharpness / luminance-based QP bias \t\t\t: 0 / 0\n",
      "Svt[info]: Svt[info]: -------------------------------------------\n",
      "/Users/jonas/Projects/lerobot/lerobot/record.py:212: DeprecationWarning: since 0.23.0: Use `Scalars` instead.\n",
      "  rr.log(f\"observation.{obs}\", rr.Scalar(val))\n",
      "/Users/jonas/Projects/lerobot/lerobot/record.py:217: DeprecationWarning: since 0.23.0: Use `Scalars` instead.\n",
      "  rr.log(f\"action.{act}\", rr.Scalar(val))\n"
     ]
    },
    {
     "name": "stdout",
     "output_type": "stream",
     "text": [
      "Right arrow key pressed. Exiting loop...\n"
     ]
    },
    {
     "name": "stderr",
     "output_type": "stream",
     "text": [
      "Map: 100%|██████████| 526/526 [00:00<00:00, 6916.43 examples/s]\n",
      "Creating parquet from Arrow format: 100%|██████████| 1/1 [00:00<00:00, 1981.25ba/s]\n",
      "Svt[info]: -------------------------------------------\n",
      "Svt[info]: SVT [version]:\tSVT-AV1 Encoder Lib v3.0.0\n",
      "Svt[info]: SVT [build]  :\tApple LLVM 15.0.0 (clang-1500.3.9.4)\t 64 bit\n",
      "Svt[info]: LIB Build date: May 16 2025 15:44:08\n",
      "Svt[info]: -------------------------------------------\n",
      "Svt[info]: Level of Parallelism: 4\n",
      "Svt[info]: Number of PPCS 59\n",
      "Svt[info]: [asm level on system : up to neon_i8mm]\n",
      "Svt[info]: [asm level selected : up to neon_i8mm]\n",
      "Svt[info]: -------------------------------------------\n",
      "Svt[info]: SVT [config]: main profile\ttier (auto)\tlevel (auto)\n",
      "Svt[info]: SVT [config]: width / height / fps numerator / fps denominator \t\t: 1920 / 1080 / 30 / 1\n",
      "Svt[info]: SVT [config]: bit-depth / color format \t\t\t\t\t: 8 / YUV420\n",
      "Svt[info]: SVT [config]: preset / tune / pred struct \t\t\t\t\t: 8 / PSNR / random access\n",
      "Svt[info]: SVT [config]: gop size / mini-gop size / key-frame type \t\t\t: 2 / 16 / key frame\n",
      "Svt[info]: SVT [config]: BRC mode / rate factor \t\t\t\t\t: CRF / 30 \n",
      "Svt[info]: SVT [config]: AQ mode / variance boost \t\t\t\t\t: 2 / 0\n",
      "Svt[info]: SVT [config]: sharpness / luminance-based QP bias \t\t\t: 0 / 0\n",
      "Svt[info]: Svt[info]: -------------------------------------------\n"
     ]
    },
    {
     "data": {
      "text/plain": [
       "CompletedProcess(args=['python', '-m', 'lerobot.record', '--robot.type=so101_follower', '--robot.port=/dev/tty.usbmodem5A680109821', '--robot.id=my_so101_follower', '--robot.cameras={\"front\": {\"type\": \"opencv\", \"index_or_path\": 1, \"width\": 1920, \"height\": 1080, \"fps\": 30}}', '--teleop.type=so101_leader', '--teleop.port=/dev/tty.usbmodem5A680109791', '--teleop.id=my_so101_leader', '--display_data=true', '--dataset.repo_id=rhinopithecus/so101_pickandplace_whitecube_redbox_20250619_1056', '--dataset.num_episodes=4', '--dataset.single_task=Pick the white cube and place it in the red box', '--dataset.episode_time_s=40', '--dataset.reset_time_s=20'], returncode=0)"
      ]
     },
     "execution_count": 28,
     "metadata": {},
     "output_type": "execute_result"
    }
   ],
   "source": [
    "# Set dynamic variables\n",
    "timestamp = datetime.now().strftime(\"%Y%m%d_%H%M\")\n",
    "repo_id = f\"{hf_user}/so101_pickandplace_whitecube_redbox_{timestamp}\"\n",
    "#repo_id = f\"{hf_user}/so101_pickandplace_test8\" # test datasets\n",
    "\n",
    "# Build the command as a list for subprocess\n",
    "command = [\n",
    "    \"python\", \"-m\", \"lerobot.record\",\n",
    "    \"--robot.type=so101_follower\",\n",
    "    \"--robot.port=/dev/tty.usbmodem5A680109821\",\n",
    "    \"--robot.id=my_so101_follower\",\n",
    "    '--robot.cameras={\"front\": {\"type\": \"opencv\", \"index_or_path\": 1, \"width\": 1920, \"height\": 1080, \"fps\": 30}}',\n",
    "    \"--teleop.type=so101_leader\",\n",
    "    \"--teleop.port=/dev/tty.usbmodem5A680109791\",\n",
    "    \"--teleop.id=my_so101_leader\",\n",
    "    \"--display_data=true\",\n",
    "    f\"--dataset.repo_id={repo_id}\",\n",
    "    \"--dataset.num_episodes=4\",\n",
    "    '--dataset.single_task=Pick the white cube and place it in the red box',\n",
    "    '--dataset.episode_time_s=40',\n",
    "    '--dataset.reset_time_s=20'\n",
    "]\n",
    "\n",
    "# Run it\n",
    "subprocess.run(command, check=True)"
   ]
  },
  {
   "cell_type": "markdown",
   "id": "23330c53",
   "metadata": {},
   "source": [
    "## Check available datasets for task"
   ]
  },
  {
   "cell_type": "code",
   "execution_count": 13,
   "id": "551f2255",
   "metadata": {},
   "outputs": [
    {
     "name": "stdout",
     "output_type": "stream",
     "text": [
      "Discovered matching datasets:\n",
      " - rhinopithecus/so101_pp_whitecube_redbox_20250619_1009\n",
      " - rhinopithecus/so101_pp_whitecube_redbox_20250619_1056\n",
      "\n",
      "Total matching datasets: 2\n"
     ]
    }
   ],
   "source": [
    "# Find all datasets for desired task\n",
    "all_datasets = HfApi().list_datasets(author=hf_user)\n",
    "repo_ids = [d.id for d in all_datasets if \"pp_whitecube_redbox\" in d.id]\n",
    "\n",
    "print(\"Discovered matching datasets:\")\n",
    "for r in repo_ids:\n",
    "    print(\" -\", r)\n",
    "matching_datasets = repo_ids\n",
    "\n",
    "print(f\"\\nTotal matching datasets: {len(matching_datasets)}\")\n"
   ]
  },
  {
   "cell_type": "markdown",
   "id": "68d0aea4",
   "metadata": {},
   "source": [
    "## Model Training"
   ]
  },
  {
   "cell_type": "code",
   "execution_count": null,
   "id": "bd2a4563",
   "metadata": {},
   "outputs": [
    {
     "name": "stderr",
     "output_type": "stream",
     "text": [
      "INFO 2025-06-19 12:24:29 ts/train.py:111 {'batch_size': 2,\n",
      " 'dataset': {'episodes': None,\n",
      "             'image_transforms': {'enable': False,\n",
      "                                  'max_num_transforms': 3,\n",
      "                                  'random_order': False,\n",
      "                                  'tfs': {'brightness': {'kwargs': {'brightness': [0.8,\n",
      "                                                                                   1.2]},\n",
      "                                                         'type': 'ColorJitter',\n",
      "                                                         'weight': 1.0},\n",
      "                                          'contrast': {'kwargs': {'contrast': [0.8,\n",
      "                                                                               1.2]},\n",
      "                                                       'type': 'ColorJitter',\n",
      "                                                       'weight': 1.0},\n",
      "                                          'hue': {'kwargs': {'hue': [-0.05,\n",
      "                                                                     0.05]},\n",
      "                                                  'type': 'ColorJitter',\n",
      "                                                  'weight': 1.0},\n",
      "                                          'saturation': {'kwargs': {'saturation': [0.5,\n",
      "                                                                                   1.5]},\n",
      "                                                         'type': 'ColorJitter',\n",
      "                                                         'weight': 1.0},\n",
      "                                          'sharpness': {'kwargs': {'sharpness': [0.5,\n",
      "                                                                                 1.5]},\n",
      "                                                        'type': 'SharpnessJitter',\n",
      "                                                        'weight': 1.0}}},\n",
      "             'repo_id': 'rhinopithecus/so101_pp_whitecube_redbox_20250619_1009',\n",
      "             'revision': None,\n",
      "             'root': None,\n",
      "             'use_imagenet_stats': True,\n",
      "             'video_backend': 'pyav'},\n",
      " 'env': None,\n",
      " 'eval': {'batch_size': 50, 'n_episodes': 50, 'use_async_envs': False},\n",
      " 'eval_freq': 2000,\n",
      " 'job_name': 'act_so101_whitecube',\n",
      " 'log_freq': 50,\n",
      " 'num_workers': 4,\n",
      " 'optimizer': {'betas': [0.9, 0.999],\n",
      "               'eps': 1e-08,\n",
      "               'grad_clip_norm': 10.0,\n",
      "               'lr': 1e-05,\n",
      "               'type': 'adamw',\n",
      "               'weight_decay': 0.0001},\n",
      " 'output_dir': 'outputs/train/act_so101_whitecube',\n",
      " 'policy': {'chunk_size': 100,\n",
      "            'device': 'mps',\n",
      "            'dim_feedforward': 3200,\n",
      "            'dim_model': 512,\n",
      "            'dropout': 0.1,\n",
      "            'feedforward_activation': 'relu',\n",
      "            'input_features': {},\n",
      "            'kl_weight': 10.0,\n",
      "            'latent_dim': 32,\n",
      "            'n_action_steps': 100,\n",
      "            'n_decoder_layers': 1,\n",
      "            'n_encoder_layers': 4,\n",
      "            'n_heads': 8,\n",
      "            'n_obs_steps': 1,\n",
      "            'n_vae_encoder_layers': 4,\n",
      "            'normalization_mapping': {'ACTION': <NormalizationMode.MEAN_STD: 'MEAN_STD'>,\n",
      "                                      'STATE': <NormalizationMode.MEAN_STD: 'MEAN_STD'>,\n",
      "                                      'VISUAL': <NormalizationMode.MEAN_STD: 'MEAN_STD'>},\n",
      "            'optimizer_lr': 1e-05,\n",
      "            'optimizer_lr_backbone': 1e-05,\n",
      "            'optimizer_weight_decay': 0.0001,\n",
      "            'output_features': {},\n",
      "            'pre_norm': False,\n",
      "            'pretrained_backbone_weights': 'ResNet18_Weights.IMAGENET1K_V1',\n",
      "            'replace_final_stride_with_dilation': False,\n",
      "            'temporal_ensemble_coeff': None,\n",
      "            'type': 'act',\n",
      "            'use_amp': False,\n",
      "            'use_vae': True,\n",
      "            'vision_backbone': 'resnet18'},\n",
      " 'resume': False,\n",
      " 'save_checkpoint': True,\n",
      " 'save_freq': 10000,\n",
      " 'scheduler': None,\n",
      " 'seed': 1000,\n",
      " 'steps': 50000,\n",
      " 'use_policy_training_preset': True,\n",
      " 'wandb': {'disable_artifact': False,\n",
      "           'enable': True,\n",
      "           'entity': None,\n",
      "           'mode': None,\n",
      "           'notes': None,\n",
      "           'project': 'lerobot',\n",
      "           'run_id': None}}\n"
     ]
    },
    {
     "name": "stdout",
     "output_type": "stream",
     "text": [
      "\u001b[1m\u001b[34mLogs will be synced with wandb.\u001b[0m\n"
     ]
    },
    {
     "name": "stderr",
     "output_type": "stream",
     "text": [
      "INFO 2025-06-19 12:24:30 db_utils.py:103 Track this run --> \u001b[1m\u001b[33mhttps://wandb.ai/rhinopithecus-none/lerobot/runs/bqwc2vh8\u001b[0m\n",
      "INFO 2025-06-19 12:24:30 ts/train.py:127 Creating dataset\n",
      "Fetching 4 files: 100%|██████████| 4/4 [00:00<00:00,  6.39it/s]\n",
      "Fetching 64 files: 100%|██████████| 64/64 [02:18<00:00,  2.17s/it]\n",
      "Downloading data: 100%|██████████| 29/29 [00:00<00:00, 388609.64files/s]\n",
      "Generating train split: 19850 examples [00:00, 742417.58 examples/s]\n",
      "INFO 2025-06-19 12:26:51 ts/train.py:138 Creating policy\n",
      "INFO 2025-06-19 12:26:51 ts/train.py:144 Creating optimizer and scheduler\n",
      "INFO 2025-06-19 12:26:51 ts/train.py:156 \u001b[1m\u001b[33mOutput dir:\u001b[0m outputs/train/act_so101_whitecube\n",
      "INFO 2025-06-19 12:26:51 ts/train.py:159 cfg.steps=50000 (50K)\n",
      "INFO 2025-06-19 12:26:51 ts/train.py:160 dataset.num_frames=19850 (20K)\n",
      "INFO 2025-06-19 12:26:51 ts/train.py:161 dataset.num_episodes=29\n",
      "INFO 2025-06-19 12:26:51 ts/train.py:162 num_learnable_params=51597190 (52M)\n",
      "INFO 2025-06-19 12:26:51 ts/train.py:163 num_total_params=51597232 (52M)\n",
      "INFO 2025-06-19 12:26:51 ts/train.py:202 Start offline training on a fixed dataset\n",
      "/Users/jonas/miniconda3/envs/lerobot/lib/python3.10/site-packages/torch/utils/data/dataloader.py:683: UserWarning: 'pin_memory' argument is set as true but not supported on MPS now, then device pinned memory won't be used.\n",
      "  warnings.warn(warn_msg)\n",
      "/Users/jonas/miniconda3/envs/lerobot/lib/python3.10/site-packages/torchvision/io/_video_deprecation_warning.py:5: UserWarning: The video decoding and encoding capabilities of torchvision are deprecated from version 0.22 and will be removed in version 0.24. We recommend that you migrate to TorchCodec, where we'll consolidate the future decoding/encoding capabilities of PyTorch: https://github.com/pytorch/torchcodec\n",
      "  warnings.warn(\n",
      "/Users/jonas/miniconda3/envs/lerobot/lib/python3.10/site-packages/torchvision/io/_video_deprecation_warning.py:5: UserWarning: The video decoding and encoding capabilities of torchvision are deprecated from version 0.22 and will be removed in version 0.24. We recommend that you migrate to TorchCodec, where we'll consolidate the future decoding/encoding capabilities of PyTorch: https://github.com/pytorch/torchcodec\n",
      "  warnings.warn(\n",
      "/Users/jonas/miniconda3/envs/lerobot/lib/python3.10/site-packages/torchvision/io/_video_deprecation_warning.py:5: UserWarning: The video decoding and encoding capabilities of torchvision are deprecated from version 0.22 and will be removed in version 0.24. We recommend that you migrate to TorchCodec, where we'll consolidate the future decoding/encoding capabilities of PyTorch: https://github.com/pytorch/torchcodec\n",
      "  warnings.warn(\n",
      "/Users/jonas/miniconda3/envs/lerobot/lib/python3.10/site-packages/torchvision/io/_video_deprecation_warning.py:5: UserWarning: The video decoding and encoding capabilities of torchvision are deprecated from version 0.22 and will be removed in version 0.24. We recommend that you migrate to TorchCodec, where we'll consolidate the future decoding/encoding capabilities of PyTorch: https://github.com/pytorch/torchcodec\n",
      "  warnings.warn(\n",
      "INFO 2025-06-19 12:27:51 ts/train.py:232 step:50 smpl:100 ep:0 epch:0.01 loss:18.327 grdn:502.916 lr:1.0e-05 updt_s:1.155 data_s:0.048\n",
      "INFO 2025-06-19 12:28:49 ts/train.py:232 step:100 smpl:200 ep:0 epch:0.01 loss:6.872 grdn:290.656 lr:1.0e-05 updt_s:1.142 data_s:0.001\n",
      "INFO 2025-06-19 12:29:45 ts/train.py:232 step:150 smpl:300 ep:0 epch:0.02 loss:5.755 grdn:255.451 lr:1.0e-05 updt_s:1.130 data_s:0.001\n",
      "INFO 2025-06-19 12:30:42 ts/train.py:232 step:200 smpl:400 ep:1 epch:0.02 loss:5.277 grdn:234.690 lr:1.0e-05 updt_s:1.132 data_s:0.001\n",
      "INFO 2025-06-19 12:31:38 ts/train.py:232 step:250 smpl:500 ep:1 epch:0.03 loss:4.773 grdn:209.435 lr:1.0e-05 updt_s:1.128 data_s:0.001\n",
      "INFO 2025-06-19 12:32:35 ts/train.py:232 step:300 smpl:600 ep:1 epch:0.03 loss:4.322 grdn:196.043 lr:1.0e-05 updt_s:1.135 data_s:0.001\n",
      "INFO 2025-06-19 12:33:33 ts/train.py:232 step:350 smpl:700 ep:1 epch:0.04 loss:4.126 grdn:185.507 lr:1.0e-05 updt_s:1.155 data_s:0.001\n",
      "INFO 2025-06-19 12:34:31 ts/train.py:232 step:400 smpl:800 ep:1 epch:0.04 loss:3.861 grdn:175.043 lr:1.0e-05 updt_s:1.155 data_s:0.001\n",
      "INFO 2025-06-19 12:35:29 ts/train.py:232 step:450 smpl:900 ep:1 epch:0.05 loss:3.601 grdn:169.302 lr:1.0e-05 updt_s:1.175 data_s:0.001\n",
      "INFO 2025-06-19 12:36:28 ts/train.py:232 step:500 smpl:1K ep:1 epch:0.05 loss:3.587 grdn:165.553 lr:1.0e-05 updt_s:1.163 data_s:0.001\n",
      "INFO 2025-06-19 12:37:26 ts/train.py:232 step:550 smpl:1K ep:2 epch:0.06 loss:3.256 grdn:153.897 lr:1.0e-05 updt_s:1.167 data_s:0.001\n",
      "INFO 2025-06-19 12:38:24 ts/train.py:232 step:600 smpl:1K ep:2 epch:0.06 loss:3.264 grdn:153.734 lr:1.0e-05 updt_s:1.167 data_s:0.001\n",
      "INFO 2025-06-19 12:39:23 ts/train.py:232 step:650 smpl:1K ep:2 epch:0.07 loss:3.179 grdn:152.939 lr:1.0e-05 updt_s:1.162 data_s:0.001\n",
      "INFO 2025-06-19 12:40:21 ts/train.py:232 step:700 smpl:1K ep:2 epch:0.07 loss:3.186 grdn:148.947 lr:1.0e-05 updt_s:1.157 data_s:0.001\n",
      "INFO 2025-06-19 12:41:18 ts/train.py:232 step:750 smpl:2K ep:2 epch:0.08 loss:3.071 grdn:146.533 lr:1.0e-05 updt_s:1.154 data_s:0.001\n",
      "INFO 2025-06-19 12:42:16 ts/train.py:232 step:800 smpl:2K ep:2 epch:0.08 loss:2.962 grdn:141.038 lr:1.0e-05 updt_s:1.150 data_s:0.001\n",
      "INFO 2025-06-19 12:43:13 ts/train.py:232 step:850 smpl:2K ep:2 epch:0.09 loss:3.035 grdn:145.338 lr:1.0e-05 updt_s:1.147 data_s:0.001\n",
      "INFO 2025-06-19 12:44:10 ts/train.py:232 step:900 smpl:2K ep:3 epch:0.09 loss:2.964 grdn:141.618 lr:1.0e-05 updt_s:1.143 data_s:0.001\n",
      "INFO 2025-06-19 12:45:08 ts/train.py:232 step:950 smpl:2K ep:3 epch:0.10 loss:2.824 grdn:139.894 lr:1.0e-05 updt_s:1.143 data_s:0.001\n",
      "INFO 2025-06-19 12:46:05 ts/train.py:232 step:1K smpl:2K ep:3 epch:0.10 loss:2.863 grdn:136.654 lr:1.0e-05 updt_s:1.136 data_s:0.001\n",
      "INFO 2025-06-19 12:47:01 ts/train.py:232 step:1K smpl:2K ep:3 epch:0.11 loss:2.655 grdn:130.350 lr:1.0e-05 updt_s:1.134 data_s:0.001\n",
      "INFO 2025-06-19 12:47:58 ts/train.py:232 step:1K smpl:2K ep:3 epch:0.11 loss:2.716 grdn:134.937 lr:1.0e-05 updt_s:1.133 data_s:0.001\n",
      "INFO 2025-06-19 12:48:55 ts/train.py:232 step:1K smpl:2K ep:3 epch:0.12 loss:2.633 grdn:128.770 lr:1.0e-05 updt_s:1.134 data_s:0.001\n",
      "INFO 2025-06-19 12:49:52 ts/train.py:232 step:1K smpl:2K ep:4 epch:0.12 loss:2.583 grdn:128.173 lr:1.0e-05 updt_s:1.142 data_s:0.001\n",
      "INFO 2025-06-19 12:50:48 ts/train.py:232 step:1K smpl:2K ep:4 epch:0.13 loss:2.624 grdn:128.788 lr:1.0e-05 updt_s:1.128 data_s:0.001\n",
      "INFO 2025-06-19 12:51:45 ts/train.py:232 step:1K smpl:3K ep:4 epch:0.13 loss:2.431 grdn:123.034 lr:1.0e-05 updt_s:1.129 data_s:0.001\n",
      "INFO 2025-06-19 12:52:41 ts/train.py:232 step:1K smpl:3K ep:4 epch:0.14 loss:2.539 grdn:123.892 lr:1.0e-05 updt_s:1.130 data_s:0.001\n",
      "INFO 2025-06-19 12:53:39 ts/train.py:232 step:1K smpl:3K ep:4 epch:0.14 loss:2.552 grdn:126.517 lr:1.0e-05 updt_s:1.142 data_s:0.001\n",
      "INFO 2025-06-19 12:54:36 ts/train.py:232 step:1K smpl:3K ep:4 epch:0.15 loss:2.435 grdn:121.158 lr:1.0e-05 updt_s:1.138 data_s:0.001\n",
      "INFO 2025-06-19 12:55:32 ts/train.py:232 step:2K smpl:3K ep:4 epch:0.15 loss:2.418 grdn:120.483 lr:1.0e-05 updt_s:1.128 data_s:0.001\n",
      "INFO 2025-06-19 12:56:29 ts/train.py:232 step:2K smpl:3K ep:5 epch:0.16 loss:2.371 grdn:121.035 lr:1.0e-05 updt_s:1.129 data_s:0.001\n",
      "INFO 2025-06-19 12:57:25 ts/train.py:232 step:2K smpl:3K ep:5 epch:0.16 loss:2.444 grdn:122.652 lr:1.0e-05 updt_s:1.135 data_s:0.001\n",
      "INFO 2025-06-19 12:58:22 ts/train.py:232 step:2K smpl:3K ep:5 epch:0.17 loss:2.315 grdn:118.318 lr:1.0e-05 updt_s:1.129 data_s:0.001\n",
      "INFO 2025-06-19 12:59:18 ts/train.py:232 step:2K smpl:3K ep:5 epch:0.17 loss:2.243 grdn:117.241 lr:1.0e-05 updt_s:1.124 data_s:0.001\n",
      "INFO 2025-06-19 13:00:15 ts/train.py:232 step:2K smpl:4K ep:5 epch:0.18 loss:2.195 grdn:115.109 lr:1.0e-05 updt_s:1.130 data_s:0.001\n",
      "INFO 2025-06-19 13:01:11 ts/train.py:232 step:2K smpl:4K ep:5 epch:0.18 loss:2.272 grdn:115.838 lr:1.0e-05 updt_s:1.128 data_s:0.001\n",
      "INFO 2025-06-19 13:02:09 ts/train.py:232 step:2K smpl:4K ep:5 epch:0.19 loss:2.244 grdn:115.622 lr:1.0e-05 updt_s:1.145 data_s:0.001\n",
      "INFO 2025-06-19 13:03:05 ts/train.py:232 step:2K smpl:4K ep:6 epch:0.19 loss:2.151 grdn:112.859 lr:1.0e-05 updt_s:1.136 data_s:0.001\n",
      "INFO 2025-06-19 13:04:02 ts/train.py:232 step:2K smpl:4K ep:6 epch:0.20 loss:2.149 grdn:114.951 lr:1.0e-05 updt_s:1.135 data_s:0.001\n",
      "INFO 2025-06-19 13:05:00 ts/train.py:232 step:2K smpl:4K ep:6 epch:0.20 loss:2.061 grdn:110.262 lr:1.0e-05 updt_s:1.150 data_s:0.001\n",
      "INFO 2025-06-19 13:05:56 ts/train.py:232 step:2K smpl:4K ep:6 epch:0.21 loss:2.094 grdn:111.195 lr:1.0e-05 updt_s:1.133 data_s:0.001\n",
      "INFO 2025-06-19 13:06:53 ts/train.py:232 step:2K smpl:4K ep:6 epch:0.21 loss:2.055 grdn:109.173 lr:1.0e-05 updt_s:1.137 data_s:0.001\n",
      "INFO 2025-06-19 13:07:50 ts/train.py:232 step:2K smpl:4K ep:6 epch:0.22 loss:2.075 grdn:109.075 lr:1.0e-05 updt_s:1.127 data_s:0.001\n",
      "INFO 2025-06-19 13:08:46 ts/train.py:232 step:2K smpl:4K ep:6 epch:0.22 loss:2.072 grdn:109.985 lr:1.0e-05 updt_s:1.128 data_s:0.001\n",
      "INFO 2025-06-19 13:09:43 ts/train.py:232 step:2K smpl:4K ep:7 epch:0.23 loss:1.985 grdn:105.513 lr:1.0e-05 updt_s:1.138 data_s:0.001\n",
      "INFO 2025-06-19 13:10:40 ts/train.py:232 step:2K smpl:5K ep:7 epch:0.23 loss:1.955 grdn:106.185 lr:1.0e-05 updt_s:1.129 data_s:0.001\n",
      "INFO 2025-06-19 13:11:36 ts/train.py:232 step:2K smpl:5K ep:7 epch:0.24 loss:1.992 grdn:108.419 lr:1.0e-05 updt_s:1.119 data_s:0.001\n",
      "INFO 2025-06-19 13:12:32 ts/train.py:232 step:2K smpl:5K ep:7 epch:0.24 loss:1.925 grdn:106.349 lr:1.0e-05 updt_s:1.119 data_s:0.001\n",
      "INFO 2025-06-19 13:13:29 ts/train.py:232 step:2K smpl:5K ep:7 epch:0.25 loss:1.964 grdn:106.620 lr:1.0e-05 updt_s:1.144 data_s:0.001\n",
      "INFO 2025-06-19 13:14:26 ts/train.py:232 step:2K smpl:5K ep:7 epch:0.25 loss:1.927 grdn:104.320 lr:1.0e-05 updt_s:1.148 data_s:0.001\n",
      "INFO 2025-06-19 13:15:23 ts/train.py:232 step:3K smpl:5K ep:7 epch:0.26 loss:1.859 grdn:102.222 lr:1.0e-05 updt_s:1.128 data_s:0.001\n",
      "INFO 2025-06-19 13:16:19 ts/train.py:232 step:3K smpl:5K ep:8 epch:0.26 loss:1.925 grdn:105.273 lr:1.0e-05 updt_s:1.126 data_s:0.001\n",
      "INFO 2025-06-19 13:17:16 ts/train.py:232 step:3K smpl:5K ep:8 epch:0.27 loss:1.852 grdn:102.258 lr:1.0e-05 updt_s:1.132 data_s:0.001\n",
      "INFO 2025-06-19 13:18:12 ts/train.py:232 step:3K smpl:5K ep:8 epch:0.27 loss:1.866 grdn:103.091 lr:1.0e-05 updt_s:1.121 data_s:0.001\n",
      "INFO 2025-06-19 13:19:08 ts/train.py:232 step:3K smpl:6K ep:8 epch:0.28 loss:1.766 grdn:99.682 lr:1.0e-05 updt_s:1.114 data_s:0.001\n",
      "INFO 2025-06-19 13:20:03 ts/train.py:232 step:3K smpl:6K ep:8 epch:0.28 loss:1.750 grdn:99.278 lr:1.0e-05 updt_s:1.114 data_s:0.001\n",
      "INFO 2025-06-19 13:20:59 ts/train.py:232 step:3K smpl:6K ep:8 epch:0.29 loss:1.743 grdn:98.754 lr:1.0e-05 updt_s:1.113 data_s:0.001\n",
      "INFO 2025-06-19 13:21:55 ts/train.py:232 step:3K smpl:6K ep:8 epch:0.29 loss:1.676 grdn:97.576 lr:1.0e-05 updt_s:1.113 data_s:0.001\n",
      "INFO 2025-06-19 13:22:51 ts/train.py:232 step:3K smpl:6K ep:9 epch:0.30 loss:1.695 grdn:97.218 lr:1.0e-05 updt_s:1.113 data_s:0.001\n",
      "INFO 2025-06-19 13:23:46 ts/train.py:232 step:3K smpl:6K ep:9 epch:0.30 loss:1.630 grdn:93.616 lr:1.0e-05 updt_s:1.116 data_s:0.001\n",
      "INFO 2025-06-19 13:24:42 ts/train.py:232 step:3K smpl:6K ep:9 epch:0.31 loss:1.604 grdn:94.159 lr:1.0e-05 updt_s:1.114 data_s:0.001\n",
      "INFO 2025-06-19 13:25:38 ts/train.py:232 step:3K smpl:6K ep:9 epch:0.31 loss:1.603 grdn:96.082 lr:1.0e-05 updt_s:1.114 data_s:0.001\n",
      "INFO 2025-06-19 13:26:34 ts/train.py:232 step:3K smpl:6K ep:9 epch:0.32 loss:1.656 grdn:97.788 lr:1.0e-05 updt_s:1.121 data_s:0.001\n",
      "INFO 2025-06-19 13:27:30 ts/train.py:232 step:3K smpl:6K ep:9 epch:0.32 loss:1.599 grdn:95.030 lr:1.0e-05 updt_s:1.118 data_s:0.000\n",
      "INFO 2025-06-19 13:28:49 ts/train.py:232 step:3K smpl:6K ep:9 epch:0.33 loss:1.583 grdn:95.652 lr:1.0e-05 updt_s:1.121 data_s:0.001\n",
      "INFO 2025-06-19 13:38:39 ts/train.py:232 step:3K smpl:7K ep:10 epch:0.33 loss:1.551 grdn:91.034 lr:1.0e-05 updt_s:1.355 data_s:0.001\n",
      "INFO 2025-06-19 13:55:10 ts/train.py:232 step:3K smpl:7K ep:10 epch:0.34 loss:1.518 grdn:89.944 lr:1.0e-05 updt_s:1.257 data_s:0.000\n",
      "INFO 2025-06-19 13:56:11 ts/train.py:232 step:3K smpl:7K ep:10 epch:0.34 loss:1.480 grdn:89.733 lr:1.0e-05 updt_s:1.214 data_s:0.000\n",
      "INFO 2025-06-19 14:12:48 ts/train.py:232 step:3K smpl:7K ep:10 epch:0.35 loss:1.459 grdn:89.788 lr:1.0e-05 updt_s:1.944 data_s:0.001\n",
      "INFO 2025-06-19 14:13:51 ts/train.py:232 step:4K smpl:7K ep:10 epch:0.35 loss:1.437 grdn:88.477 lr:1.0e-05 updt_s:1.257 data_s:0.000\n",
      "INFO 2025-06-19 14:18:29 ts/train.py:232 step:4K smpl:7K ep:10 epch:0.36 loss:1.497 grdn:90.388 lr:1.0e-05 updt_s:2.157 data_s:0.001\n",
      "INFO 2025-06-19 14:19:26 ts/train.py:232 step:4K smpl:7K ep:11 epch:0.36 loss:1.416 grdn:89.714 lr:1.0e-05 updt_s:1.129 data_s:0.001\n",
      "INFO 2025-06-19 14:20:22 ts/train.py:232 step:4K smpl:7K ep:11 epch:0.37 loss:1.433 grdn:86.810 lr:1.0e-05 updt_s:1.122 data_s:0.001\n",
      "INFO 2025-06-19 14:21:18 ts/train.py:232 step:4K smpl:7K ep:11 epch:0.37 loss:1.412 grdn:85.017 lr:1.0e-05 updt_s:1.124 data_s:0.001\n",
      "INFO 2025-06-19 14:22:15 ts/train.py:232 step:4K smpl:8K ep:11 epch:0.38 loss:1.367 grdn:84.550 lr:1.0e-05 updt_s:1.137 data_s:0.001\n",
      "INFO 2025-06-19 14:23:14 ts/train.py:232 step:4K smpl:8K ep:11 epch:0.38 loss:1.353 grdn:87.385 lr:1.0e-05 updt_s:1.165 data_s:0.001\n",
      "INFO 2025-06-19 14:24:12 ts/train.py:232 step:4K smpl:8K ep:11 epch:0.39 loss:1.326 grdn:84.891 lr:1.0e-05 updt_s:1.159 data_s:0.001\n",
      "INFO 2025-06-19 14:25:10 ts/train.py:232 step:4K smpl:8K ep:11 epch:0.39 loss:1.340 grdn:83.657 lr:1.0e-05 updt_s:1.164 data_s:0.001\n",
      "INFO 2025-06-19 14:26:08 ts/train.py:232 step:4K smpl:8K ep:12 epch:0.40 loss:1.280 grdn:82.769 lr:1.0e-05 updt_s:1.167 data_s:0.001\n"
     ]
    }
   ],
   "source": [
    "from lerobot.configs import parser\n",
    "from lerobot.scripts.train import train\n",
    "\n",
    "cmd = [\n",
    "    \"python\", \"lerobot/scripts/train.py\",\n",
    "    \"--dataset.repo_id=rhinopithecus/so101_pp_whitecube_redbox_20250619_1009\",\n",
    "    \"--policy.type=act\",\n",
    "    \"--output_dir=outputs/train/act_so101_whitecube\",\n",
    "    \"--job_name=act_so101_whitecube\",\n",
    "    \"--policy.device=mps\",\n",
    "    \"--batch_size=2\",\n",
    "    \"--steps=50000\",\n",
    "    \"--eval_freq=2000\",\n",
    "    \"--save_freq=10000\",\n",
    "    \"--log_freq=50\",\n",
    "    \"--wandb.enable=true\"\n",
    "]\n",
    "\n",
    "# Run the command\n",
    "subprocess.run(cmd)\n"
   ]
  },
  {
   "cell_type": "code",
   "execution_count": null,
   "id": "19eb235d",
   "metadata": {},
   "outputs": [],
   "source": []
  }
 ],
 "metadata": {
  "kernelspec": {
   "display_name": "lerobot",
   "language": "python",
   "name": "python3"
  },
  "language_info": {
   "codemirror_mode": {
    "name": "ipython",
    "version": 3
   },
   "file_extension": ".py",
   "mimetype": "text/x-python",
   "name": "python",
   "nbconvert_exporter": "python",
   "pygments_lexer": "ipython3",
   "version": "3.10.16"
  }
 },
 "nbformat": 4,
 "nbformat_minor": 5
}
