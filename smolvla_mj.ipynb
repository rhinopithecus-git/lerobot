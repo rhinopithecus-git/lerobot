{
 "cells": [
  {
   "cell_type": "markdown",
   "id": "a44c9d5a",
   "metadata": {},
   "source": [
    "## Import packages and load Huggingface Credentials"
   ]
  },
  {
   "cell_type": "code",
   "execution_count": null,
   "id": "66ebc8ca",
   "metadata": {},
   "outputs": [],
   "source": [
    "import os\n",
    "import subprocess\n",
    "from dotenv import load_dotenv\n",
    "from datetime import datetime\n",
    "\n",
    "from huggingface_hub import HfApi\n",
    "from lerobot.common.datasets.lerobot_dataset import MultiLeRobotDataset"
   ]
  },
  {
   "cell_type": "code",
   "execution_count": 3,
   "id": "72269e64",
   "metadata": {},
   "outputs": [
    {
     "name": "stderr",
     "output_type": "stream",
     "text": [
      "Token is valid (permission: write).\n",
      "The token `lerobot` has been saved to /Users/jonas/.cache/huggingface/stored_tokens\n",
      "Your token has been saved in your configured git credential helpers (osxkeychain).\n",
      "Your token has been saved to /Users/jonas/.cache/huggingface/token\n",
      "Login successful.\n",
      "The current active token is: `lerobot`\n"
     ]
    },
    {
     "name": "stdout",
     "output_type": "stream",
     "text": [
      "Hugging Face user: rhinopithecus\n"
     ]
    }
   ],
   "source": [
    "# Get the token from environment variable\n",
    "hf_token = os.getenv(\"HUGGINGFACE_TOKEN\")\n",
    "if not hf_token:\n",
    "    raise ValueError(\"HUGGINGFACE_TOKEN not found in environment variables\")\n",
    "\n",
    "# Log in to Hugging Face CLI with token\n",
    "subprocess.run(\n",
    "    [\"huggingface-cli\", \"login\", \"--token\", hf_token, \"--add-to-git-credential\"],\n",
    "    check=True\n",
    ")\n",
    "\n",
    "# Get the current HF username\n",
    "result = subprocess.run(\n",
    "    [\"huggingface-cli\", \"whoami\"],\n",
    "    capture_output=True,\n",
    "    text=True,\n",
    "    check=True\n",
    ")\n",
    "hf_user = result.stdout.strip().splitlines()[0]\n",
    "print(f\"Hugging Face user: {hf_user}\")"
   ]
  },
  {
   "cell_type": "markdown",
   "id": "c212df59",
   "metadata": {},
   "source": [
    "## Data Recording"
   ]
  },
  {
   "cell_type": "code",
   "execution_count": 19,
   "id": "104ad506",
   "metadata": {},
   "outputs": [
    {
     "name": "stderr",
     "output_type": "stream",
     "text": [
      "2025-06-19 10:09:28.415 python[13876:1937943] WARNING: AVCaptureDeviceTypeExternal is deprecated for Continuity Cameras. Please use AVCaptureDeviceTypeContinuityCamera and add NSCameraUseContinuityCameraDeviceType to your Info.plist.\n",
      "WARNING 2025-06-19 10:09:30 l/darwin.py:211 This process is not trusted! Input event monitoring will not be possible until it is added to accessibility clients.\n",
      "/Users/jonas/Projects/lerobot/lerobot/record.py:212: DeprecationWarning: since 0.23.0: Use `Scalars` instead.\n",
      "  rr.log(f\"observation.{obs}\", rr.Scalar(val))\n",
      "/Users/jonas/Projects/lerobot/lerobot/record.py:217: DeprecationWarning: since 0.23.0: Use `Scalars` instead.\n",
      "  rr.log(f\"action.{act}\", rr.Scalar(val))\n"
     ]
    },
    {
     "name": "stdout",
     "output_type": "stream",
     "text": [
      "Right arrow key pressed. Exiting loop...\n"
     ]
    },
    {
     "name": "stderr",
     "output_type": "stream",
     "text": [
      "/Users/jonas/Projects/lerobot/lerobot/record.py:212: DeprecationWarning: since 0.23.0: Use `Scalars` instead.\n",
      "  rr.log(f\"observation.{obs}\", rr.Scalar(val))\n",
      "/Users/jonas/Projects/lerobot/lerobot/record.py:217: DeprecationWarning: since 0.23.0: Use `Scalars` instead.\n",
      "  rr.log(f\"action.{act}\", rr.Scalar(val))\n"
     ]
    },
    {
     "name": "stdout",
     "output_type": "stream",
     "text": [
      "Right arrow key pressed. Exiting loop...\n"
     ]
    },
    {
     "name": "stderr",
     "output_type": "stream",
     "text": [
      "Map: 100%|██████████| 615/615 [00:00<00:00, 6580.63 examples/s]\n",
      "Creating parquet from Arrow format: 100%|██████████| 1/1 [00:00<00:00, 1533.57ba/s]\n",
      "Svt[info]: -------------------------------------------\n",
      "Svt[info]: SVT [version]:\tSVT-AV1 Encoder Lib v3.0.0\n",
      "Svt[info]: SVT [build]  :\tApple LLVM 15.0.0 (clang-1500.3.9.4)\t 64 bit\n",
      "Svt[info]: LIB Build date: May 16 2025 15:44:08\n",
      "Svt[info]: -------------------------------------------\n",
      "Svt[info]: Level of Parallelism: 4\n",
      "Svt[info]: Number of PPCS 59\n",
      "Svt[info]: [asm level on system : up to neon_i8mm]\n",
      "Svt[info]: [asm level selected : up to neon_i8mm]\n",
      "Svt[info]: -------------------------------------------\n",
      "Svt[info]: SVT [config]: main profile\ttier (auto)\tlevel (auto)\n",
      "Svt[info]: SVT [config]: width / height / fps numerator / fps denominator \t\t: 1920 / 1080 / 30 / 1\n",
      "Svt[info]: SVT [config]: bit-depth / color format \t\t\t\t\t: 8 / YUV420\n",
      "Svt[info]: SVT [config]: preset / tune / pred struct \t\t\t\t\t: 8 / PSNR / random access\n",
      "Svt[info]: SVT [config]: gop size / mini-gop size / key-frame type \t\t\t: 2 / 16 / key frame\n",
      "Svt[info]: SVT [config]: BRC mode / rate factor \t\t\t\t\t: CRF / 30 \n",
      "Svt[info]: SVT [config]: AQ mode / variance boost \t\t\t\t\t: 2 / 0\n",
      "Svt[info]: SVT [config]: sharpness / luminance-based QP bias \t\t\t: 0 / 0\n",
      "Svt[info]: Svt[info]: -------------------------------------------\n",
      "/Users/jonas/Projects/lerobot/lerobot/record.py:212: DeprecationWarning: since 0.23.0: Use `Scalars` instead.\n",
      "  rr.log(f\"observation.{obs}\", rr.Scalar(val))\n",
      "/Users/jonas/Projects/lerobot/lerobot/record.py:217: DeprecationWarning: since 0.23.0: Use `Scalars` instead.\n",
      "  rr.log(f\"action.{act}\", rr.Scalar(val))\n"
     ]
    },
    {
     "name": "stdout",
     "output_type": "stream",
     "text": [
      "Right arrow key pressed. Exiting loop...\n"
     ]
    },
    {
     "name": "stderr",
     "output_type": "stream",
     "text": [
      "/Users/jonas/Projects/lerobot/lerobot/record.py:212: DeprecationWarning: since 0.23.0: Use `Scalars` instead.\n",
      "  rr.log(f\"observation.{obs}\", rr.Scalar(val))\n",
      "/Users/jonas/Projects/lerobot/lerobot/record.py:217: DeprecationWarning: since 0.23.0: Use `Scalars` instead.\n",
      "  rr.log(f\"action.{act}\", rr.Scalar(val))\n"
     ]
    },
    {
     "name": "stdout",
     "output_type": "stream",
     "text": [
      "Right arrow key pressed. Exiting loop...\n"
     ]
    },
    {
     "name": "stderr",
     "output_type": "stream",
     "text": [
      "Map: 100%|██████████| 652/652 [00:00<00:00, 6984.85 examples/s]\n",
      "Creating parquet from Arrow format: 100%|██████████| 1/1 [00:00<00:00, 1838.80ba/s]\n",
      "Svt[info]: -------------------------------------------\n",
      "Svt[info]: SVT [version]:\tSVT-AV1 Encoder Lib v3.0.0\n",
      "Svt[info]: SVT [build]  :\tApple LLVM 15.0.0 (clang-1500.3.9.4)\t 64 bit\n",
      "Svt[info]: LIB Build date: May 16 2025 15:44:08\n",
      "Svt[info]: -------------------------------------------\n",
      "Svt[info]: Level of Parallelism: 4\n",
      "Svt[info]: Number of PPCS 59\n",
      "Svt[info]: [asm level on system : up to neon_i8mm]\n",
      "Svt[info]: [asm level selected : up to neon_i8mm]\n",
      "Svt[info]: -------------------------------------------\n",
      "Svt[info]: SVT [config]: main profile\ttier (auto)\tlevel (auto)\n",
      "Svt[info]: SVT [config]: width / height / fps numerator / fps denominator \t\t: 1920 / 1080 / 30 / 1\n",
      "Svt[info]: SVT [config]: bit-depth / color format \t\t\t\t\t: 8 / YUV420\n",
      "Svt[info]: SVT [config]: preset / tune / pred struct \t\t\t\t\t: 8 / PSNR / random access\n",
      "Svt[info]: SVT [config]: gop size / mini-gop size / key-frame type \t\t\t: 2 / 16 / key frame\n",
      "Svt[info]: SVT [config]: BRC mode / rate factor \t\t\t\t\t: CRF / 30 \n",
      "Svt[info]: SVT [config]: AQ mode / variance boost \t\t\t\t\t: 2 / 0\n",
      "Svt[info]: SVT [config]: sharpness / luminance-based QP bias \t\t\t: 0 / 0\n",
      "Svt[info]: Svt[info]: -------------------------------------------\n",
      "/Users/jonas/Projects/lerobot/lerobot/record.py:212: DeprecationWarning: since 0.23.0: Use `Scalars` instead.\n",
      "  rr.log(f\"observation.{obs}\", rr.Scalar(val))\n",
      "/Users/jonas/Projects/lerobot/lerobot/record.py:217: DeprecationWarning: since 0.23.0: Use `Scalars` instead.\n",
      "  rr.log(f\"action.{act}\", rr.Scalar(val))\n"
     ]
    },
    {
     "name": "stdout",
     "output_type": "stream",
     "text": [
      "Right arrow key pressed. Exiting loop...\n"
     ]
    },
    {
     "name": "stderr",
     "output_type": "stream",
     "text": [
      "/Users/jonas/Projects/lerobot/lerobot/record.py:212: DeprecationWarning: since 0.23.0: Use `Scalars` instead.\n",
      "  rr.log(f\"observation.{obs}\", rr.Scalar(val))\n",
      "/Users/jonas/Projects/lerobot/lerobot/record.py:217: DeprecationWarning: since 0.23.0: Use `Scalars` instead.\n",
      "  rr.log(f\"action.{act}\", rr.Scalar(val))\n"
     ]
    },
    {
     "name": "stdout",
     "output_type": "stream",
     "text": [
      "Right arrow key pressed. Exiting loop...\n"
     ]
    },
    {
     "name": "stderr",
     "output_type": "stream",
     "text": [
      "Map: 100%|██████████| 605/605 [00:00<00:00, 6937.11 examples/s]\n",
      "Creating parquet from Arrow format: 100%|██████████| 1/1 [00:00<00:00, 1769.75ba/s]\n",
      "Svt[info]: -------------------------------------------\n",
      "Svt[info]: SVT [version]:\tSVT-AV1 Encoder Lib v3.0.0\n",
      "Svt[info]: SVT [build]  :\tApple LLVM 15.0.0 (clang-1500.3.9.4)\t 64 bit\n",
      "Svt[info]: LIB Build date: May 16 2025 15:44:08\n",
      "Svt[info]: -------------------------------------------\n",
      "Svt[info]: Level of Parallelism: 4\n",
      "Svt[info]: Number of PPCS 59\n",
      "Svt[info]: [asm level on system : up to neon_i8mm]\n",
      "Svt[info]: [asm level selected : up to neon_i8mm]\n",
      "Svt[info]: -------------------------------------------\n",
      "Svt[info]: SVT [config]: main profile\ttier (auto)\tlevel (auto)\n",
      "Svt[info]: SVT [config]: width / height / fps numerator / fps denominator \t\t: 1920 / 1080 / 30 / 1\n",
      "Svt[info]: SVT [config]: bit-depth / color format \t\t\t\t\t: 8 / YUV420\n",
      "Svt[info]: SVT [config]: preset / tune / pred struct \t\t\t\t\t: 8 / PSNR / random access\n",
      "Svt[info]: SVT [config]: gop size / mini-gop size / key-frame type \t\t\t: 2 / 16 / key frame\n",
      "Svt[info]: SVT [config]: BRC mode / rate factor \t\t\t\t\t: CRF / 30 \n",
      "Svt[info]: SVT [config]: AQ mode / variance boost \t\t\t\t\t: 2 / 0\n",
      "Svt[info]: SVT [config]: sharpness / luminance-based QP bias \t\t\t: 0 / 0\n",
      "Svt[info]: Svt[info]: -------------------------------------------\n",
      "/Users/jonas/Projects/lerobot/lerobot/record.py:212: DeprecationWarning: since 0.23.0: Use `Scalars` instead.\n",
      "  rr.log(f\"observation.{obs}\", rr.Scalar(val))\n",
      "/Users/jonas/Projects/lerobot/lerobot/record.py:217: DeprecationWarning: since 0.23.0: Use `Scalars` instead.\n",
      "  rr.log(f\"action.{act}\", rr.Scalar(val))\n"
     ]
    },
    {
     "name": "stdout",
     "output_type": "stream",
     "text": [
      "Left arrow key pressed. Exiting loop and rerecord the last episode...\n"
     ]
    },
    {
     "name": "stderr",
     "output_type": "stream",
     "text": [
      "/Users/jonas/Projects/lerobot/lerobot/record.py:212: DeprecationWarning: since 0.23.0: Use `Scalars` instead.\n",
      "  rr.log(f\"observation.{obs}\", rr.Scalar(val))\n",
      "/Users/jonas/Projects/lerobot/lerobot/record.py:217: DeprecationWarning: since 0.23.0: Use `Scalars` instead.\n",
      "  rr.log(f\"action.{act}\", rr.Scalar(val))\n",
      "/Users/jonas/Projects/lerobot/lerobot/record.py:212: DeprecationWarning: since 0.23.0: Use `Scalars` instead.\n",
      "  rr.log(f\"observation.{obs}\", rr.Scalar(val))\n",
      "/Users/jonas/Projects/lerobot/lerobot/record.py:217: DeprecationWarning: since 0.23.0: Use `Scalars` instead.\n",
      "  rr.log(f\"action.{act}\", rr.Scalar(val))\n"
     ]
    },
    {
     "name": "stdout",
     "output_type": "stream",
     "text": [
      "Right arrow key pressed. Exiting loop...\n"
     ]
    },
    {
     "name": "stderr",
     "output_type": "stream",
     "text": [
      "/Users/jonas/Projects/lerobot/lerobot/record.py:212: DeprecationWarning: since 0.23.0: Use `Scalars` instead.\n",
      "  rr.log(f\"observation.{obs}\", rr.Scalar(val))\n",
      "/Users/jonas/Projects/lerobot/lerobot/record.py:217: DeprecationWarning: since 0.23.0: Use `Scalars` instead.\n",
      "  rr.log(f\"action.{act}\", rr.Scalar(val))\n"
     ]
    },
    {
     "name": "stdout",
     "output_type": "stream",
     "text": [
      "Right arrow key pressed. Exiting loop...\n"
     ]
    },
    {
     "name": "stderr",
     "output_type": "stream",
     "text": [
      "Map: 100%|██████████| 644/644 [00:00<00:00, 7061.10 examples/s]\n",
      "Creating parquet from Arrow format: 100%|██████████| 1/1 [00:00<00:00, 1562.71ba/s]\n",
      "Svt[info]: -------------------------------------------\n",
      "Svt[info]: SVT [version]:\tSVT-AV1 Encoder Lib v3.0.0\n",
      "Svt[info]: SVT [build]  :\tApple LLVM 15.0.0 (clang-1500.3.9.4)\t 64 bit\n",
      "Svt[info]: LIB Build date: May 16 2025 15:44:08\n",
      "Svt[info]: -------------------------------------------\n",
      "Svt[info]: Level of Parallelism: 4\n",
      "Svt[info]: Number of PPCS 59\n",
      "Svt[info]: [asm level on system : up to neon_i8mm]\n",
      "Svt[info]: [asm level selected : up to neon_i8mm]\n",
      "Svt[info]: -------------------------------------------\n",
      "Svt[info]: SVT [config]: main profile\ttier (auto)\tlevel (auto)\n",
      "Svt[info]: SVT [config]: width / height / fps numerator / fps denominator \t\t: 1920 / 1080 / 30 / 1\n",
      "Svt[info]: SVT [config]: bit-depth / color format \t\t\t\t\t: 8 / YUV420\n",
      "Svt[info]: SVT [config]: preset / tune / pred struct \t\t\t\t\t: 8 / PSNR / random access\n",
      "Svt[info]: SVT [config]: gop size / mini-gop size / key-frame type \t\t\t: 2 / 16 / key frame\n",
      "Svt[info]: SVT [config]: BRC mode / rate factor \t\t\t\t\t: CRF / 30 \n",
      "Svt[info]: SVT [config]: AQ mode / variance boost \t\t\t\t\t: 2 / 0\n",
      "Svt[info]: SVT [config]: sharpness / luminance-based QP bias \t\t\t: 0 / 0\n",
      "Svt[info]: Svt[info]: -------------------------------------------\n",
      "/Users/jonas/Projects/lerobot/lerobot/record.py:212: DeprecationWarning: since 0.23.0: Use `Scalars` instead.\n",
      "  rr.log(f\"observation.{obs}\", rr.Scalar(val))\n",
      "/Users/jonas/Projects/lerobot/lerobot/record.py:217: DeprecationWarning: since 0.23.0: Use `Scalars` instead.\n",
      "  rr.log(f\"action.{act}\", rr.Scalar(val))\n"
     ]
    },
    {
     "name": "stdout",
     "output_type": "stream",
     "text": [
      "Right arrow key pressed. Exiting loop...\n"
     ]
    },
    {
     "name": "stderr",
     "output_type": "stream",
     "text": [
      "/Users/jonas/Projects/lerobot/lerobot/record.py:212: DeprecationWarning: since 0.23.0: Use `Scalars` instead.\n",
      "  rr.log(f\"observation.{obs}\", rr.Scalar(val))\n",
      "/Users/jonas/Projects/lerobot/lerobot/record.py:217: DeprecationWarning: since 0.23.0: Use `Scalars` instead.\n",
      "  rr.log(f\"action.{act}\", rr.Scalar(val))\n"
     ]
    },
    {
     "name": "stdout",
     "output_type": "stream",
     "text": [
      "Right arrow key pressed. Exiting loop...\n"
     ]
    },
    {
     "name": "stderr",
     "output_type": "stream",
     "text": [
      "Map: 100%|██████████| 601/601 [00:00<00:00, 6778.80 examples/s]\n",
      "Creating parquet from Arrow format: 100%|██████████| 1/1 [00:00<00:00, 1763.79ba/s]\n",
      "Svt[info]: -------------------------------------------\n",
      "Svt[info]: SVT [version]:\tSVT-AV1 Encoder Lib v3.0.0\n",
      "Svt[info]: SVT [build]  :\tApple LLVM 15.0.0 (clang-1500.3.9.4)\t 64 bit\n",
      "Svt[info]: LIB Build date: May 16 2025 15:44:08\n",
      "Svt[info]: -------------------------------------------\n",
      "Svt[info]: Level of Parallelism: 4\n",
      "Svt[info]: Number of PPCS 59\n",
      "Svt[info]: [asm level on system : up to neon_i8mm]\n",
      "Svt[info]: [asm level selected : up to neon_i8mm]\n",
      "Svt[info]: -------------------------------------------\n",
      "Svt[info]: SVT [config]: main profile\ttier (auto)\tlevel (auto)\n",
      "Svt[info]: SVT [config]: width / height / fps numerator / fps denominator \t\t: 1920 / 1080 / 30 / 1\n",
      "Svt[info]: SVT [config]: bit-depth / color format \t\t\t\t\t: 8 / YUV420\n",
      "Svt[info]: SVT [config]: preset / tune / pred struct \t\t\t\t\t: 8 / PSNR / random access\n",
      "Svt[info]: SVT [config]: gop size / mini-gop size / key-frame type \t\t\t: 2 / 16 / key frame\n",
      "Svt[info]: SVT [config]: BRC mode / rate factor \t\t\t\t\t: CRF / 30 \n",
      "Svt[info]: SVT [config]: AQ mode / variance boost \t\t\t\t\t: 2 / 0\n",
      "Svt[info]: SVT [config]: sharpness / luminance-based QP bias \t\t\t: 0 / 0\n",
      "Svt[info]: Svt[info]: -------------------------------------------\n",
      "/Users/jonas/Projects/lerobot/lerobot/record.py:212: DeprecationWarning: since 0.23.0: Use `Scalars` instead.\n",
      "  rr.log(f\"observation.{obs}\", rr.Scalar(val))\n",
      "/Users/jonas/Projects/lerobot/lerobot/record.py:217: DeprecationWarning: since 0.23.0: Use `Scalars` instead.\n",
      "  rr.log(f\"action.{act}\", rr.Scalar(val))\n"
     ]
    },
    {
     "name": "stdout",
     "output_type": "stream",
     "text": [
      "Right arrow key pressed. Exiting loop...\n"
     ]
    },
    {
     "name": "stderr",
     "output_type": "stream",
     "text": [
      "/Users/jonas/Projects/lerobot/lerobot/record.py:212: DeprecationWarning: since 0.23.0: Use `Scalars` instead.\n",
      "  rr.log(f\"observation.{obs}\", rr.Scalar(val))\n",
      "/Users/jonas/Projects/lerobot/lerobot/record.py:217: DeprecationWarning: since 0.23.0: Use `Scalars` instead.\n",
      "  rr.log(f\"action.{act}\", rr.Scalar(val))\n"
     ]
    },
    {
     "name": "stdout",
     "output_type": "stream",
     "text": [
      "Right arrow key pressed. Exiting loop...\n"
     ]
    },
    {
     "name": "stderr",
     "output_type": "stream",
     "text": [
      "Map: 100%|██████████| 735/735 [00:00<00:00, 6874.94 examples/s]\n",
      "Creating parquet from Arrow format: 100%|██████████| 1/1 [00:00<00:00, 1168.33ba/s]\n",
      "Svt[info]: -------------------------------------------\n",
      "Svt[info]: SVT [version]:\tSVT-AV1 Encoder Lib v3.0.0\n",
      "Svt[info]: SVT [build]  :\tApple LLVM 15.0.0 (clang-1500.3.9.4)\t 64 bit\n",
      "Svt[info]: LIB Build date: May 16 2025 15:44:08\n",
      "Svt[info]: -------------------------------------------\n",
      "Svt[info]: Level of Parallelism: 4\n",
      "Svt[info]: Number of PPCS 59\n",
      "Svt[info]: [asm level on system : up to neon_i8mm]\n",
      "Svt[info]: [asm level selected : up to neon_i8mm]\n",
      "Svt[info]: -------------------------------------------\n",
      "Svt[info]: SVT [config]: main profile\ttier (auto)\tlevel (auto)\n",
      "Svt[info]: SVT [config]: width / height / fps numerator / fps denominator \t\t: 1920 / 1080 / 30 / 1\n",
      "Svt[info]: SVT [config]: bit-depth / color format \t\t\t\t\t: 8 / YUV420\n",
      "Svt[info]: SVT [config]: preset / tune / pred struct \t\t\t\t\t: 8 / PSNR / random access\n",
      "Svt[info]: SVT [config]: gop size / mini-gop size / key-frame type \t\t\t: 2 / 16 / key frame\n",
      "Svt[info]: SVT [config]: BRC mode / rate factor \t\t\t\t\t: CRF / 30 \n",
      "Svt[info]: SVT [config]: AQ mode / variance boost \t\t\t\t\t: 2 / 0\n",
      "Svt[info]: SVT [config]: sharpness / luminance-based QP bias \t\t\t: 0 / 0\n",
      "Svt[info]: Svt[info]: -------------------------------------------\n",
      "/Users/jonas/Projects/lerobot/lerobot/record.py:212: DeprecationWarning: since 0.23.0: Use `Scalars` instead.\n",
      "  rr.log(f\"observation.{obs}\", rr.Scalar(val))\n",
      "/Users/jonas/Projects/lerobot/lerobot/record.py:217: DeprecationWarning: since 0.23.0: Use `Scalars` instead.\n",
      "  rr.log(f\"action.{act}\", rr.Scalar(val))\n"
     ]
    },
    {
     "name": "stdout",
     "output_type": "stream",
     "text": [
      "Right arrow key pressed. Exiting loop...\n"
     ]
    },
    {
     "name": "stderr",
     "output_type": "stream",
     "text": [
      "/Users/jonas/Projects/lerobot/lerobot/record.py:212: DeprecationWarning: since 0.23.0: Use `Scalars` instead.\n",
      "  rr.log(f\"observation.{obs}\", rr.Scalar(val))\n",
      "/Users/jonas/Projects/lerobot/lerobot/record.py:217: DeprecationWarning: since 0.23.0: Use `Scalars` instead.\n",
      "  rr.log(f\"action.{act}\", rr.Scalar(val))\n"
     ]
    },
    {
     "name": "stdout",
     "output_type": "stream",
     "text": [
      "Right arrow key pressed. Exiting loop...\n"
     ]
    },
    {
     "name": "stderr",
     "output_type": "stream",
     "text": [
      "Map: 100%|██████████| 832/832 [00:00<00:00, 7298.19 examples/s]\n",
      "Creating parquet from Arrow format: 100%|██████████| 1/1 [00:00<00:00, 1416.52ba/s]\n",
      "Svt[info]: -------------------------------------------\n",
      "Svt[info]: SVT [version]:\tSVT-AV1 Encoder Lib v3.0.0\n",
      "Svt[info]: SVT [build]  :\tApple LLVM 15.0.0 (clang-1500.3.9.4)\t 64 bit\n",
      "Svt[info]: LIB Build date: May 16 2025 15:44:08\n",
      "Svt[info]: -------------------------------------------\n",
      "Svt[info]: Level of Parallelism: 4\n",
      "Svt[info]: Number of PPCS 59\n",
      "Svt[info]: [asm level on system : up to neon_i8mm]\n",
      "Svt[info]: [asm level selected : up to neon_i8mm]\n",
      "Svt[info]: -------------------------------------------\n",
      "Svt[info]: SVT [config]: main profile\ttier (auto)\tlevel (auto)\n",
      "Svt[info]: SVT [config]: width / height / fps numerator / fps denominator \t\t: 1920 / 1080 / 30 / 1\n",
      "Svt[info]: SVT [config]: bit-depth / color format \t\t\t\t\t: 8 / YUV420\n",
      "Svt[info]: SVT [config]: preset / tune / pred struct \t\t\t\t\t: 8 / PSNR / random access\n",
      "Svt[info]: SVT [config]: gop size / mini-gop size / key-frame type \t\t\t: 2 / 16 / key frame\n",
      "Svt[info]: SVT [config]: BRC mode / rate factor \t\t\t\t\t: CRF / 30 \n",
      "Svt[info]: SVT [config]: AQ mode / variance boost \t\t\t\t\t: 2 / 0\n",
      "Svt[info]: SVT [config]: sharpness / luminance-based QP bias \t\t\t: 0 / 0\n",
      "Svt[info]: Svt[info]: -------------------------------------------\n",
      "/Users/jonas/Projects/lerobot/lerobot/record.py:212: DeprecationWarning: since 0.23.0: Use `Scalars` instead.\n",
      "  rr.log(f\"observation.{obs}\", rr.Scalar(val))\n",
      "/Users/jonas/Projects/lerobot/lerobot/record.py:217: DeprecationWarning: since 0.23.0: Use `Scalars` instead.\n",
      "  rr.log(f\"action.{act}\", rr.Scalar(val))\n"
     ]
    },
    {
     "name": "stdout",
     "output_type": "stream",
     "text": [
      "Right arrow key pressed. Exiting loop...\n"
     ]
    },
    {
     "name": "stderr",
     "output_type": "stream",
     "text": [
      "/Users/jonas/Projects/lerobot/lerobot/record.py:212: DeprecationWarning: since 0.23.0: Use `Scalars` instead.\n",
      "  rr.log(f\"observation.{obs}\", rr.Scalar(val))\n",
      "/Users/jonas/Projects/lerobot/lerobot/record.py:217: DeprecationWarning: since 0.23.0: Use `Scalars` instead.\n",
      "  rr.log(f\"action.{act}\", rr.Scalar(val))\n"
     ]
    },
    {
     "name": "stdout",
     "output_type": "stream",
     "text": [
      "Right arrow key pressed. Exiting loop...\n"
     ]
    },
    {
     "name": "stderr",
     "output_type": "stream",
     "text": [
      "Map: 100%|██████████| 844/844 [00:00<00:00, 6911.63 examples/s]\n",
      "Creating parquet from Arrow format: 100%|██████████| 1/1 [00:00<00:00, 1450.81ba/s]\n",
      "Svt[info]: -------------------------------------------\n",
      "Svt[info]: SVT [version]:\tSVT-AV1 Encoder Lib v3.0.0\n",
      "Svt[info]: SVT [build]  :\tApple LLVM 15.0.0 (clang-1500.3.9.4)\t 64 bit\n",
      "Svt[info]: LIB Build date: May 16 2025 15:44:08\n",
      "Svt[info]: -------------------------------------------\n",
      "Svt[info]: Level of Parallelism: 4\n",
      "Svt[info]: Number of PPCS 59\n",
      "Svt[info]: [asm level on system : up to neon_i8mm]\n",
      "Svt[info]: [asm level selected : up to neon_i8mm]\n",
      "Svt[info]: -------------------------------------------\n",
      "Svt[info]: SVT [config]: main profile\ttier (auto)\tlevel (auto)\n",
      "Svt[info]: SVT [config]: width / height / fps numerator / fps denominator \t\t: 1920 / 1080 / 30 / 1\n",
      "Svt[info]: SVT [config]: bit-depth / color format \t\t\t\t\t: 8 / YUV420\n",
      "Svt[info]: SVT [config]: preset / tune / pred struct \t\t\t\t\t: 8 / PSNR / random access\n",
      "Svt[info]: SVT [config]: gop size / mini-gop size / key-frame type \t\t\t: 2 / 16 / key frame\n",
      "Svt[info]: SVT [config]: BRC mode / rate factor \t\t\t\t\t: CRF / 30 \n",
      "Svt[info]: SVT [config]: AQ mode / variance boost \t\t\t\t\t: 2 / 0\n",
      "Svt[info]: SVT [config]: sharpness / luminance-based QP bias \t\t\t: 0 / 0\n",
      "Svt[info]: Svt[info]: -------------------------------------------\n",
      "/Users/jonas/Projects/lerobot/lerobot/record.py:212: DeprecationWarning: since 0.23.0: Use `Scalars` instead.\n",
      "  rr.log(f\"observation.{obs}\", rr.Scalar(val))\n",
      "/Users/jonas/Projects/lerobot/lerobot/record.py:217: DeprecationWarning: since 0.23.0: Use `Scalars` instead.\n",
      "  rr.log(f\"action.{act}\", rr.Scalar(val))\n"
     ]
    },
    {
     "name": "stdout",
     "output_type": "stream",
     "text": [
      "Right arrow key pressed. Exiting loop...\n"
     ]
    },
    {
     "name": "stderr",
     "output_type": "stream",
     "text": [
      "/Users/jonas/Projects/lerobot/lerobot/record.py:212: DeprecationWarning: since 0.23.0: Use `Scalars` instead.\n",
      "  rr.log(f\"observation.{obs}\", rr.Scalar(val))\n",
      "/Users/jonas/Projects/lerobot/lerobot/record.py:217: DeprecationWarning: since 0.23.0: Use `Scalars` instead.\n",
      "  rr.log(f\"action.{act}\", rr.Scalar(val))\n"
     ]
    },
    {
     "name": "stdout",
     "output_type": "stream",
     "text": [
      "Right arrow key pressed. Exiting loop...\n"
     ]
    },
    {
     "name": "stderr",
     "output_type": "stream",
     "text": [
      "Map: 100%|██████████| 722/722 [00:00<00:00, 7057.14 examples/s]\n",
      "Creating parquet from Arrow format: 100%|██████████| 1/1 [00:00<00:00, 1718.27ba/s]\n",
      "Svt[info]: -------------------------------------------\n",
      "Svt[info]: SVT [version]:\tSVT-AV1 Encoder Lib v3.0.0\n",
      "Svt[info]: SVT [build]  :\tApple LLVM 15.0.0 (clang-1500.3.9.4)\t 64 bit\n",
      "Svt[info]: LIB Build date: May 16 2025 15:44:08\n",
      "Svt[info]: -------------------------------------------\n",
      "Svt[info]: Level of Parallelism: 4\n",
      "Svt[info]: Number of PPCS 59\n",
      "Svt[info]: [asm level on system : up to neon_i8mm]\n",
      "Svt[info]: [asm level selected : up to neon_i8mm]\n",
      "Svt[info]: -------------------------------------------\n",
      "Svt[info]: SVT [config]: main profile\ttier (auto)\tlevel (auto)\n",
      "Svt[info]: SVT [config]: width / height / fps numerator / fps denominator \t\t: 1920 / 1080 / 30 / 1\n",
      "Svt[info]: SVT [config]: bit-depth / color format \t\t\t\t\t: 8 / YUV420\n",
      "Svt[info]: SVT [config]: preset / tune / pred struct \t\t\t\t\t: 8 / PSNR / random access\n",
      "Svt[info]: SVT [config]: gop size / mini-gop size / key-frame type \t\t\t: 2 / 16 / key frame\n",
      "Svt[info]: SVT [config]: BRC mode / rate factor \t\t\t\t\t: CRF / 30 \n",
      "Svt[info]: SVT [config]: AQ mode / variance boost \t\t\t\t\t: 2 / 0\n",
      "Svt[info]: SVT [config]: sharpness / luminance-based QP bias \t\t\t: 0 / 0\n",
      "Svt[info]: Svt[info]: -------------------------------------------\n",
      "/Users/jonas/Projects/lerobot/lerobot/record.py:212: DeprecationWarning: since 0.23.0: Use `Scalars` instead.\n",
      "  rr.log(f\"observation.{obs}\", rr.Scalar(val))\n",
      "/Users/jonas/Projects/lerobot/lerobot/record.py:217: DeprecationWarning: since 0.23.0: Use `Scalars` instead.\n",
      "  rr.log(f\"action.{act}\", rr.Scalar(val))\n"
     ]
    },
    {
     "name": "stdout",
     "output_type": "stream",
     "text": [
      "Right arrow key pressed. Exiting loop...\n"
     ]
    },
    {
     "name": "stderr",
     "output_type": "stream",
     "text": [
      "/Users/jonas/Projects/lerobot/lerobot/record.py:212: DeprecationWarning: since 0.23.0: Use `Scalars` instead.\n",
      "  rr.log(f\"observation.{obs}\", rr.Scalar(val))\n",
      "/Users/jonas/Projects/lerobot/lerobot/record.py:217: DeprecationWarning: since 0.23.0: Use `Scalars` instead.\n",
      "  rr.log(f\"action.{act}\", rr.Scalar(val))\n"
     ]
    },
    {
     "name": "stdout",
     "output_type": "stream",
     "text": [
      "Right arrow key pressed. Exiting loop...\n"
     ]
    },
    {
     "name": "stderr",
     "output_type": "stream",
     "text": [
      "Map: 100%|██████████| 635/635 [00:00<00:00, 7400.67 examples/s]\n",
      "Creating parquet from Arrow format: 100%|██████████| 1/1 [00:00<00:00, 1885.93ba/s]\n",
      "Svt[info]: -------------------------------------------\n",
      "Svt[info]: SVT [version]:\tSVT-AV1 Encoder Lib v3.0.0\n",
      "Svt[info]: SVT [build]  :\tApple LLVM 15.0.0 (clang-1500.3.9.4)\t 64 bit\n",
      "Svt[info]: LIB Build date: May 16 2025 15:44:08\n",
      "Svt[info]: -------------------------------------------\n",
      "Svt[info]: Level of Parallelism: 4\n",
      "Svt[info]: Number of PPCS 59\n",
      "Svt[info]: [asm level on system : up to neon_i8mm]\n",
      "Svt[info]: [asm level selected : up to neon_i8mm]\n",
      "Svt[info]: -------------------------------------------\n",
      "Svt[info]: SVT [config]: main profile\ttier (auto)\tlevel (auto)\n",
      "Svt[info]: SVT [config]: width / height / fps numerator / fps denominator \t\t: 1920 / 1080 / 30 / 1\n",
      "Svt[info]: SVT [config]: bit-depth / color format \t\t\t\t\t: 8 / YUV420\n",
      "Svt[info]: SVT [config]: preset / tune / pred struct \t\t\t\t\t: 8 / PSNR / random access\n",
      "Svt[info]: SVT [config]: gop size / mini-gop size / key-frame type \t\t\t: 2 / 16 / key frame\n",
      "Svt[info]: SVT [config]: BRC mode / rate factor \t\t\t\t\t: CRF / 30 \n",
      "Svt[info]: SVT [config]: AQ mode / variance boost \t\t\t\t\t: 2 / 0\n",
      "Svt[info]: SVT [config]: sharpness / luminance-based QP bias \t\t\t: 0 / 0\n",
      "Svt[info]: Svt[info]: -------------------------------------------\n",
      "/Users/jonas/Projects/lerobot/lerobot/record.py:212: DeprecationWarning: since 0.23.0: Use `Scalars` instead.\n",
      "  rr.log(f\"observation.{obs}\", rr.Scalar(val))\n",
      "/Users/jonas/Projects/lerobot/lerobot/record.py:217: DeprecationWarning: since 0.23.0: Use `Scalars` instead.\n",
      "  rr.log(f\"action.{act}\", rr.Scalar(val))\n"
     ]
    },
    {
     "name": "stdout",
     "output_type": "stream",
     "text": [
      "Right arrow key pressed. Exiting loop...\n"
     ]
    },
    {
     "name": "stderr",
     "output_type": "stream",
     "text": [
      "/Users/jonas/Projects/lerobot/lerobot/record.py:212: DeprecationWarning: since 0.23.0: Use `Scalars` instead.\n",
      "  rr.log(f\"observation.{obs}\", rr.Scalar(val))\n",
      "/Users/jonas/Projects/lerobot/lerobot/record.py:217: DeprecationWarning: since 0.23.0: Use `Scalars` instead.\n",
      "  rr.log(f\"action.{act}\", rr.Scalar(val))\n"
     ]
    },
    {
     "name": "stdout",
     "output_type": "stream",
     "text": [
      "Right arrow key pressed. Exiting loop...\n"
     ]
    },
    {
     "name": "stderr",
     "output_type": "stream",
     "text": [
      "Map: 100%|██████████| 648/648 [00:00<00:00, 7029.41 examples/s]\n",
      "Creating parquet from Arrow format: 100%|██████████| 1/1 [00:00<00:00, 1801.68ba/s]\n",
      "Svt[info]: -------------------------------------------\n",
      "Svt[info]: SVT [version]:\tSVT-AV1 Encoder Lib v3.0.0\n",
      "Svt[info]: SVT [build]  :\tApple LLVM 15.0.0 (clang-1500.3.9.4)\t 64 bit\n",
      "Svt[info]: LIB Build date: May 16 2025 15:44:08\n",
      "Svt[info]: -------------------------------------------\n",
      "Svt[info]: Level of Parallelism: 4\n",
      "Svt[info]: Number of PPCS 59\n",
      "Svt[info]: [asm level on system : up to neon_i8mm]\n",
      "Svt[info]: [asm level selected : up to neon_i8mm]\n",
      "Svt[info]: -------------------------------------------\n",
      "Svt[info]: SVT [config]: main profile\ttier (auto)\tlevel (auto)\n",
      "Svt[info]: SVT [config]: width / height / fps numerator / fps denominator \t\t: 1920 / 1080 / 30 / 1\n",
      "Svt[info]: SVT [config]: bit-depth / color format \t\t\t\t\t: 8 / YUV420\n",
      "Svt[info]: SVT [config]: preset / tune / pred struct \t\t\t\t\t: 8 / PSNR / random access\n",
      "Svt[info]: SVT [config]: gop size / mini-gop size / key-frame type \t\t\t: 2 / 16 / key frame\n",
      "Svt[info]: SVT [config]: BRC mode / rate factor \t\t\t\t\t: CRF / 30 \n",
      "Svt[info]: SVT [config]: AQ mode / variance boost \t\t\t\t\t: 2 / 0\n",
      "Svt[info]: SVT [config]: sharpness / luminance-based QP bias \t\t\t: 0 / 0\n",
      "Svt[info]: Svt[info]: -------------------------------------------\n",
      "/Users/jonas/Projects/lerobot/lerobot/record.py:212: DeprecationWarning: since 0.23.0: Use `Scalars` instead.\n",
      "  rr.log(f\"observation.{obs}\", rr.Scalar(val))\n",
      "/Users/jonas/Projects/lerobot/lerobot/record.py:217: DeprecationWarning: since 0.23.0: Use `Scalars` instead.\n",
      "  rr.log(f\"action.{act}\", rr.Scalar(val))\n"
     ]
    },
    {
     "name": "stdout",
     "output_type": "stream",
     "text": [
      "Right arrow key pressed. Exiting loop...\n"
     ]
    },
    {
     "name": "stderr",
     "output_type": "stream",
     "text": [
      "/Users/jonas/Projects/lerobot/lerobot/record.py:212: DeprecationWarning: since 0.23.0: Use `Scalars` instead.\n",
      "  rr.log(f\"observation.{obs}\", rr.Scalar(val))\n",
      "/Users/jonas/Projects/lerobot/lerobot/record.py:217: DeprecationWarning: since 0.23.0: Use `Scalars` instead.\n",
      "  rr.log(f\"action.{act}\", rr.Scalar(val))\n"
     ]
    },
    {
     "name": "stdout",
     "output_type": "stream",
     "text": [
      "Right arrow key pressed. Exiting loop...\n"
     ]
    },
    {
     "name": "stderr",
     "output_type": "stream",
     "text": [
      "Map: 100%|██████████| 852/852 [00:00<00:00, 6942.24 examples/s]\n",
      "Creating parquet from Arrow format: 100%|██████████| 1/1 [00:00<00:00, 1364.45ba/s]\n",
      "Svt[info]: -------------------------------------------\n",
      "Svt[info]: SVT [version]:\tSVT-AV1 Encoder Lib v3.0.0\n",
      "Svt[info]: SVT [build]  :\tApple LLVM 15.0.0 (clang-1500.3.9.4)\t 64 bit\n",
      "Svt[info]: LIB Build date: May 16 2025 15:44:08\n",
      "Svt[info]: -------------------------------------------\n",
      "Svt[info]: Level of Parallelism: 4\n",
      "Svt[info]: Number of PPCS 59\n",
      "Svt[info]: [asm level on system : up to neon_i8mm]\n",
      "Svt[info]: [asm level selected : up to neon_i8mm]\n",
      "Svt[info]: -------------------------------------------\n",
      "Svt[info]: SVT [config]: main profile\ttier (auto)\tlevel (auto)\n",
      "Svt[info]: SVT [config]: width / height / fps numerator / fps denominator \t\t: 1920 / 1080 / 30 / 1\n",
      "Svt[info]: SVT [config]: bit-depth / color format \t\t\t\t\t: 8 / YUV420\n",
      "Svt[info]: SVT [config]: preset / tune / pred struct \t\t\t\t\t: 8 / PSNR / random access\n",
      "Svt[info]: SVT [config]: gop size / mini-gop size / key-frame type \t\t\t: 2 / 16 / key frame\n",
      "Svt[info]: SVT [config]: BRC mode / rate factor \t\t\t\t\t: CRF / 30 \n",
      "Svt[info]: SVT [config]: AQ mode / variance boost \t\t\t\t\t: 2 / 0\n",
      "Svt[info]: SVT [config]: sharpness / luminance-based QP bias \t\t\t: 0 / 0\n",
      "Svt[info]: Svt[info]: -------------------------------------------\n",
      "/Users/jonas/Projects/lerobot/lerobot/record.py:212: DeprecationWarning: since 0.23.0: Use `Scalars` instead.\n",
      "  rr.log(f\"observation.{obs}\", rr.Scalar(val))\n",
      "/Users/jonas/Projects/lerobot/lerobot/record.py:217: DeprecationWarning: since 0.23.0: Use `Scalars` instead.\n",
      "  rr.log(f\"action.{act}\", rr.Scalar(val))\n"
     ]
    },
    {
     "name": "stdout",
     "output_type": "stream",
     "text": [
      "Right arrow key pressed. Exiting loop...\n"
     ]
    },
    {
     "name": "stderr",
     "output_type": "stream",
     "text": [
      "/Users/jonas/Projects/lerobot/lerobot/record.py:212: DeprecationWarning: since 0.23.0: Use `Scalars` instead.\n",
      "  rr.log(f\"observation.{obs}\", rr.Scalar(val))\n",
      "/Users/jonas/Projects/lerobot/lerobot/record.py:217: DeprecationWarning: since 0.23.0: Use `Scalars` instead.\n",
      "  rr.log(f\"action.{act}\", rr.Scalar(val))\n",
      "Map: 100%|██████████| 610/610 [00:00<00:00, 7117.43 examples/s]\n",
      "Creating parquet from Arrow format: 100%|██████████| 1/1 [00:00<00:00, 1754.20ba/s]\n",
      "Svt[info]: -------------------------------------------\n",
      "Svt[info]: SVT [version]:\tSVT-AV1 Encoder Lib v3.0.0\n",
      "Svt[info]: SVT [build]  :\tApple LLVM 15.0.0 (clang-1500.3.9.4)\t 64 bit\n",
      "Svt[info]: LIB Build date: May 16 2025 15:44:08\n",
      "Svt[info]: -------------------------------------------\n",
      "Svt[info]: Level of Parallelism: 4\n",
      "Svt[info]: Number of PPCS 59\n",
      "Svt[info]: [asm level on system : up to neon_i8mm]\n",
      "Svt[info]: [asm level selected : up to neon_i8mm]\n",
      "Svt[info]: -------------------------------------------\n",
      "Svt[info]: SVT [config]: main profile\ttier (auto)\tlevel (auto)\n",
      "Svt[info]: SVT [config]: width / height / fps numerator / fps denominator \t\t: 1920 / 1080 / 30 / 1\n",
      "Svt[info]: SVT [config]: bit-depth / color format \t\t\t\t\t: 8 / YUV420\n",
      "Svt[info]: SVT [config]: preset / tune / pred struct \t\t\t\t\t: 8 / PSNR / random access\n",
      "Svt[info]: SVT [config]: gop size / mini-gop size / key-frame type \t\t\t: 2 / 16 / key frame\n",
      "Svt[info]: SVT [config]: BRC mode / rate factor \t\t\t\t\t: CRF / 30 \n",
      "Svt[info]: SVT [config]: AQ mode / variance boost \t\t\t\t\t: 2 / 0\n",
      "Svt[info]: SVT [config]: sharpness / luminance-based QP bias \t\t\t: 0 / 0\n",
      "Svt[info]: Svt[info]: -------------------------------------------\n",
      "/Users/jonas/Projects/lerobot/lerobot/record.py:212: DeprecationWarning: since 0.23.0: Use `Scalars` instead.\n",
      "  rr.log(f\"observation.{obs}\", rr.Scalar(val))\n",
      "/Users/jonas/Projects/lerobot/lerobot/record.py:217: DeprecationWarning: since 0.23.0: Use `Scalars` instead.\n",
      "  rr.log(f\"action.{act}\", rr.Scalar(val))\n"
     ]
    },
    {
     "name": "stdout",
     "output_type": "stream",
     "text": [
      "Right arrow key pressed. Exiting loop...\n"
     ]
    },
    {
     "name": "stderr",
     "output_type": "stream",
     "text": [
      "/Users/jonas/Projects/lerobot/lerobot/record.py:212: DeprecationWarning: since 0.23.0: Use `Scalars` instead.\n",
      "  rr.log(f\"observation.{obs}\", rr.Scalar(val))\n",
      "/Users/jonas/Projects/lerobot/lerobot/record.py:217: DeprecationWarning: since 0.23.0: Use `Scalars` instead.\n",
      "  rr.log(f\"action.{act}\", rr.Scalar(val))\n"
     ]
    },
    {
     "name": "stdout",
     "output_type": "stream",
     "text": [
      "Right arrow key pressed. Exiting loop...\n"
     ]
    },
    {
     "name": "stderr",
     "output_type": "stream",
     "text": [
      "Map: 100%|██████████| 843/843 [00:00<00:00, 7095.59 examples/s]\n",
      "Creating parquet from Arrow format: 100%|██████████| 1/1 [00:00<00:00, 1368.01ba/s]\n",
      "Svt[info]: -------------------------------------------\n",
      "Svt[info]: SVT [version]:\tSVT-AV1 Encoder Lib v3.0.0\n",
      "Svt[info]: SVT [build]  :\tApple LLVM 15.0.0 (clang-1500.3.9.4)\t 64 bit\n",
      "Svt[info]: LIB Build date: May 16 2025 15:44:08\n",
      "Svt[info]: -------------------------------------------\n",
      "Svt[info]: Level of Parallelism: 4\n",
      "Svt[info]: Number of PPCS 59\n",
      "Svt[info]: [asm level on system : up to neon_i8mm]\n",
      "Svt[info]: [asm level selected : up to neon_i8mm]\n",
      "Svt[info]: -------------------------------------------\n",
      "Svt[info]: SVT [config]: main profile\ttier (auto)\tlevel (auto)\n",
      "Svt[info]: SVT [config]: width / height / fps numerator / fps denominator \t\t: 1920 / 1080 / 30 / 1\n",
      "Svt[info]: SVT [config]: bit-depth / color format \t\t\t\t\t: 8 / YUV420\n",
      "Svt[info]: SVT [config]: preset / tune / pred struct \t\t\t\t\t: 8 / PSNR / random access\n",
      "Svt[info]: SVT [config]: gop size / mini-gop size / key-frame type \t\t\t: 2 / 16 / key frame\n",
      "Svt[info]: SVT [config]: BRC mode / rate factor \t\t\t\t\t: CRF / 30 \n",
      "Svt[info]: SVT [config]: AQ mode / variance boost \t\t\t\t\t: 2 / 0\n",
      "Svt[info]: SVT [config]: sharpness / luminance-based QP bias \t\t\t: 0 / 0\n",
      "Svt[info]: Svt[info]: -------------------------------------------\n",
      "/Users/jonas/Projects/lerobot/lerobot/record.py:212: DeprecationWarning: since 0.23.0: Use `Scalars` instead.\n",
      "  rr.log(f\"observation.{obs}\", rr.Scalar(val))\n",
      "/Users/jonas/Projects/lerobot/lerobot/record.py:217: DeprecationWarning: since 0.23.0: Use `Scalars` instead.\n",
      "  rr.log(f\"action.{act}\", rr.Scalar(val))\n"
     ]
    },
    {
     "name": "stdout",
     "output_type": "stream",
     "text": [
      "Right arrow key pressed. Exiting loop...\n"
     ]
    },
    {
     "name": "stderr",
     "output_type": "stream",
     "text": [
      "/Users/jonas/Projects/lerobot/lerobot/record.py:212: DeprecationWarning: since 0.23.0: Use `Scalars` instead.\n",
      "  rr.log(f\"observation.{obs}\", rr.Scalar(val))\n",
      "/Users/jonas/Projects/lerobot/lerobot/record.py:217: DeprecationWarning: since 0.23.0: Use `Scalars` instead.\n",
      "  rr.log(f\"action.{act}\", rr.Scalar(val))\n"
     ]
    },
    {
     "name": "stdout",
     "output_type": "stream",
     "text": [
      "Right arrow key pressed. Exiting loop...\n"
     ]
    },
    {
     "name": "stderr",
     "output_type": "stream",
     "text": [
      "Map: 100%|██████████| 622/622 [00:00<00:00, 7087.69 examples/s]\n",
      "Creating parquet from Arrow format: 100%|██████████| 1/1 [00:00<00:00, 1837.99ba/s]\n",
      "Svt[info]: -------------------------------------------\n",
      "Svt[info]: SVT [version]:\tSVT-AV1 Encoder Lib v3.0.0\n",
      "Svt[info]: SVT [build]  :\tApple LLVM 15.0.0 (clang-1500.3.9.4)\t 64 bit\n",
      "Svt[info]: LIB Build date: May 16 2025 15:44:08\n",
      "Svt[info]: -------------------------------------------\n",
      "Svt[info]: Level of Parallelism: 4\n",
      "Svt[info]: Number of PPCS 59\n",
      "Svt[info]: [asm level on system : up to neon_i8mm]\n",
      "Svt[info]: [asm level selected : up to neon_i8mm]\n",
      "Svt[info]: -------------------------------------------\n",
      "Svt[info]: SVT [config]: main profile\ttier (auto)\tlevel (auto)\n",
      "Svt[info]: SVT [config]: width / height / fps numerator / fps denominator \t\t: 1920 / 1080 / 30 / 1\n",
      "Svt[info]: SVT [config]: bit-depth / color format \t\t\t\t\t: 8 / YUV420\n",
      "Svt[info]: SVT [config]: preset / tune / pred struct \t\t\t\t\t: 8 / PSNR / random access\n",
      "Svt[info]: SVT [config]: gop size / mini-gop size / key-frame type \t\t\t: 2 / 16 / key frame\n",
      "Svt[info]: SVT [config]: BRC mode / rate factor \t\t\t\t\t: CRF / 30 \n",
      "Svt[info]: SVT [config]: AQ mode / variance boost \t\t\t\t\t: 2 / 0\n",
      "Svt[info]: SVT [config]: sharpness / luminance-based QP bias \t\t\t: 0 / 0\n",
      "Svt[info]: Svt[info]: -------------------------------------------\n",
      "/Users/jonas/Projects/lerobot/lerobot/record.py:212: DeprecationWarning: since 0.23.0: Use `Scalars` instead.\n",
      "  rr.log(f\"observation.{obs}\", rr.Scalar(val))\n",
      "/Users/jonas/Projects/lerobot/lerobot/record.py:217: DeprecationWarning: since 0.23.0: Use `Scalars` instead.\n",
      "  rr.log(f\"action.{act}\", rr.Scalar(val))\n"
     ]
    },
    {
     "name": "stdout",
     "output_type": "stream",
     "text": [
      "Right arrow key pressed. Exiting loop...\n"
     ]
    },
    {
     "name": "stderr",
     "output_type": "stream",
     "text": [
      "/Users/jonas/Projects/lerobot/lerobot/record.py:212: DeprecationWarning: since 0.23.0: Use `Scalars` instead.\n",
      "  rr.log(f\"observation.{obs}\", rr.Scalar(val))\n",
      "/Users/jonas/Projects/lerobot/lerobot/record.py:217: DeprecationWarning: since 0.23.0: Use `Scalars` instead.\n",
      "  rr.log(f\"action.{act}\", rr.Scalar(val))\n"
     ]
    },
    {
     "name": "stdout",
     "output_type": "stream",
     "text": [
      "Right arrow key pressed. Exiting loop...\n"
     ]
    },
    {
     "name": "stderr",
     "output_type": "stream",
     "text": [
      "Map: 100%|██████████| 698/698 [00:00<00:00, 7178.26 examples/s]\n",
      "Creating parquet from Arrow format: 100%|██████████| 1/1 [00:00<00:00, 1754.20ba/s]\n",
      "Svt[info]: -------------------------------------------\n",
      "Svt[info]: SVT [version]:\tSVT-AV1 Encoder Lib v3.0.0\n",
      "Svt[info]: SVT [build]  :\tApple LLVM 15.0.0 (clang-1500.3.9.4)\t 64 bit\n",
      "Svt[info]: LIB Build date: May 16 2025 15:44:08\n",
      "Svt[info]: -------------------------------------------\n",
      "Svt[info]: Level of Parallelism: 4\n",
      "Svt[info]: Number of PPCS 59\n",
      "Svt[info]: [asm level on system : up to neon_i8mm]\n",
      "Svt[info]: [asm level selected : up to neon_i8mm]\n",
      "Svt[info]: -------------------------------------------\n",
      "Svt[info]: SVT [config]: main profile\ttier (auto)\tlevel (auto)\n",
      "Svt[info]: SVT [config]: width / height / fps numerator / fps denominator \t\t: 1920 / 1080 / 30 / 1\n",
      "Svt[info]: SVT [config]: bit-depth / color format \t\t\t\t\t: 8 / YUV420\n",
      "Svt[info]: SVT [config]: preset / tune / pred struct \t\t\t\t\t: 8 / PSNR / random access\n",
      "Svt[info]: SVT [config]: gop size / mini-gop size / key-frame type \t\t\t: 2 / 16 / key frame\n",
      "Svt[info]: SVT [config]: BRC mode / rate factor \t\t\t\t\t: CRF / 30 \n",
      "Svt[info]: SVT [config]: AQ mode / variance boost \t\t\t\t\t: 2 / 0\n",
      "Svt[info]: SVT [config]: sharpness / luminance-based QP bias \t\t\t: 0 / 0\n",
      "Svt[info]: Svt[info]: -------------------------------------------\n",
      "/Users/jonas/Projects/lerobot/lerobot/record.py:212: DeprecationWarning: since 0.23.0: Use `Scalars` instead.\n",
      "  rr.log(f\"observation.{obs}\", rr.Scalar(val))\n",
      "/Users/jonas/Projects/lerobot/lerobot/record.py:217: DeprecationWarning: since 0.23.0: Use `Scalars` instead.\n",
      "  rr.log(f\"action.{act}\", rr.Scalar(val))\n"
     ]
    },
    {
     "name": "stdout",
     "output_type": "stream",
     "text": [
      "Right arrow key pressed. Exiting loop...\n"
     ]
    },
    {
     "name": "stderr",
     "output_type": "stream",
     "text": [
      "/Users/jonas/Projects/lerobot/lerobot/record.py:212: DeprecationWarning: since 0.23.0: Use `Scalars` instead.\n",
      "  rr.log(f\"observation.{obs}\", rr.Scalar(val))\n",
      "/Users/jonas/Projects/lerobot/lerobot/record.py:217: DeprecationWarning: since 0.23.0: Use `Scalars` instead.\n",
      "  rr.log(f\"action.{act}\", rr.Scalar(val))\n"
     ]
    },
    {
     "name": "stdout",
     "output_type": "stream",
     "text": [
      "Right arrow key pressed. Exiting loop...\n"
     ]
    },
    {
     "name": "stderr",
     "output_type": "stream",
     "text": [
      "Map: 100%|██████████| 659/659 [00:00<00:00, 6960.37 examples/s]\n",
      "Creating parquet from Arrow format: 100%|██████████| 1/1 [00:00<00:00, 1779.51ba/s]\n",
      "Svt[info]: -------------------------------------------\n",
      "Svt[info]: SVT [version]:\tSVT-AV1 Encoder Lib v3.0.0\n",
      "Svt[info]: SVT [build]  :\tApple LLVM 15.0.0 (clang-1500.3.9.4)\t 64 bit\n",
      "Svt[info]: LIB Build date: May 16 2025 15:44:08\n",
      "Svt[info]: -------------------------------------------\n",
      "Svt[info]: Level of Parallelism: 4\n",
      "Svt[info]: Number of PPCS 59\n",
      "Svt[info]: [asm level on system : up to neon_i8mm]\n",
      "Svt[info]: [asm level selected : up to neon_i8mm]\n",
      "Svt[info]: -------------------------------------------\n",
      "Svt[info]: SVT [config]: main profile\ttier (auto)\tlevel (auto)\n",
      "Svt[info]: SVT [config]: width / height / fps numerator / fps denominator \t\t: 1920 / 1080 / 30 / 1\n",
      "Svt[info]: SVT [config]: bit-depth / color format \t\t\t\t\t: 8 / YUV420\n",
      "Svt[info]: SVT [config]: preset / tune / pred struct \t\t\t\t\t: 8 / PSNR / random access\n",
      "Svt[info]: SVT [config]: gop size / mini-gop size / key-frame type \t\t\t: 2 / 16 / key frame\n",
      "Svt[info]: SVT [config]: BRC mode / rate factor \t\t\t\t\t: CRF / 30 \n",
      "Svt[info]: SVT [config]: AQ mode / variance boost \t\t\t\t\t: 2 / 0\n",
      "Svt[info]: SVT [config]: sharpness / luminance-based QP bias \t\t\t: 0 / 0\n",
      "Svt[info]: Svt[info]: -------------------------------------------\n",
      "/Users/jonas/Projects/lerobot/lerobot/record.py:212: DeprecationWarning: since 0.23.0: Use `Scalars` instead.\n",
      "  rr.log(f\"observation.{obs}\", rr.Scalar(val))\n",
      "/Users/jonas/Projects/lerobot/lerobot/record.py:217: DeprecationWarning: since 0.23.0: Use `Scalars` instead.\n",
      "  rr.log(f\"action.{act}\", rr.Scalar(val))\n"
     ]
    },
    {
     "name": "stdout",
     "output_type": "stream",
     "text": [
      "Right arrow key pressed. Exiting loop...\n"
     ]
    },
    {
     "name": "stderr",
     "output_type": "stream",
     "text": [
      "/Users/jonas/Projects/lerobot/lerobot/record.py:212: DeprecationWarning: since 0.23.0: Use `Scalars` instead.\n",
      "  rr.log(f\"observation.{obs}\", rr.Scalar(val))\n",
      "/Users/jonas/Projects/lerobot/lerobot/record.py:217: DeprecationWarning: since 0.23.0: Use `Scalars` instead.\n",
      "  rr.log(f\"action.{act}\", rr.Scalar(val))\n"
     ]
    },
    {
     "name": "stdout",
     "output_type": "stream",
     "text": [
      "Right arrow key pressed. Exiting loop...\n"
     ]
    },
    {
     "name": "stderr",
     "output_type": "stream",
     "text": [
      "Map: 100%|██████████| 612/612 [00:00<00:00, 6979.94 examples/s]\n",
      "Creating parquet from Arrow format: 100%|██████████| 1/1 [00:00<00:00, 1929.30ba/s]\n",
      "Svt[info]: -------------------------------------------\n",
      "Svt[info]: SVT [version]:\tSVT-AV1 Encoder Lib v3.0.0\n",
      "Svt[info]: SVT [build]  :\tApple LLVM 15.0.0 (clang-1500.3.9.4)\t 64 bit\n",
      "Svt[info]: LIB Build date: May 16 2025 15:44:08\n",
      "Svt[info]: -------------------------------------------\n",
      "Svt[info]: Level of Parallelism: 4\n",
      "Svt[info]: Number of PPCS 59\n",
      "Svt[info]: [asm level on system : up to neon_i8mm]\n",
      "Svt[info]: [asm level selected : up to neon_i8mm]\n",
      "Svt[info]: -------------------------------------------\n",
      "Svt[info]: SVT [config]: main profile\ttier (auto)\tlevel (auto)\n",
      "Svt[info]: SVT [config]: width / height / fps numerator / fps denominator \t\t: 1920 / 1080 / 30 / 1\n",
      "Svt[info]: SVT [config]: bit-depth / color format \t\t\t\t\t: 8 / YUV420\n",
      "Svt[info]: SVT [config]: preset / tune / pred struct \t\t\t\t\t: 8 / PSNR / random access\n",
      "Svt[info]: SVT [config]: gop size / mini-gop size / key-frame type \t\t\t: 2 / 16 / key frame\n",
      "Svt[info]: SVT [config]: BRC mode / rate factor \t\t\t\t\t: CRF / 30 \n",
      "Svt[info]: SVT [config]: AQ mode / variance boost \t\t\t\t\t: 2 / 0\n",
      "Svt[info]: SVT [config]: sharpness / luminance-based QP bias \t\t\t: 0 / 0\n",
      "Svt[info]: Svt[info]: -------------------------------------------\n",
      "/Users/jonas/Projects/lerobot/lerobot/record.py:212: DeprecationWarning: since 0.23.0: Use `Scalars` instead.\n",
      "  rr.log(f\"observation.{obs}\", rr.Scalar(val))\n",
      "/Users/jonas/Projects/lerobot/lerobot/record.py:217: DeprecationWarning: since 0.23.0: Use `Scalars` instead.\n",
      "  rr.log(f\"action.{act}\", rr.Scalar(val))\n"
     ]
    },
    {
     "name": "stdout",
     "output_type": "stream",
     "text": [
      "Right arrow key pressed. Exiting loop...\n"
     ]
    },
    {
     "name": "stderr",
     "output_type": "stream",
     "text": [
      "/Users/jonas/Projects/lerobot/lerobot/record.py:212: DeprecationWarning: since 0.23.0: Use `Scalars` instead.\n",
      "  rr.log(f\"observation.{obs}\", rr.Scalar(val))\n",
      "/Users/jonas/Projects/lerobot/lerobot/record.py:217: DeprecationWarning: since 0.23.0: Use `Scalars` instead.\n",
      "  rr.log(f\"action.{act}\", rr.Scalar(val))\n"
     ]
    },
    {
     "name": "stdout",
     "output_type": "stream",
     "text": [
      "Right arrow key pressed. Exiting loop...\n"
     ]
    },
    {
     "name": "stderr",
     "output_type": "stream",
     "text": [
      "Map: 100%|██████████| 540/540 [00:00<00:00, 7072.87 examples/s]\n",
      "Creating parquet from Arrow format: 100%|██████████| 1/1 [00:00<00:00, 1776.49ba/s]\n",
      "Svt[info]: -------------------------------------------\n",
      "Svt[info]: SVT [version]:\tSVT-AV1 Encoder Lib v3.0.0\n",
      "Svt[info]: SVT [build]  :\tApple LLVM 15.0.0 (clang-1500.3.9.4)\t 64 bit\n",
      "Svt[info]: LIB Build date: May 16 2025 15:44:08\n",
      "Svt[info]: -------------------------------------------\n",
      "Svt[info]: Level of Parallelism: 4\n",
      "Svt[info]: Number of PPCS 59\n",
      "Svt[info]: [asm level on system : up to neon_i8mm]\n",
      "Svt[info]: [asm level selected : up to neon_i8mm]\n",
      "Svt[info]: -------------------------------------------\n",
      "Svt[info]: SVT [config]: main profile\ttier (auto)\tlevel (auto)\n",
      "Svt[info]: SVT [config]: width / height / fps numerator / fps denominator \t\t: 1920 / 1080 / 30 / 1\n",
      "Svt[info]: SVT [config]: bit-depth / color format \t\t\t\t\t: 8 / YUV420\n",
      "Svt[info]: SVT [config]: preset / tune / pred struct \t\t\t\t\t: 8 / PSNR / random access\n",
      "Svt[info]: SVT [config]: gop size / mini-gop size / key-frame type \t\t\t: 2 / 16 / key frame\n",
      "Svt[info]: SVT [config]: BRC mode / rate factor \t\t\t\t\t: CRF / 30 \n",
      "Svt[info]: SVT [config]: AQ mode / variance boost \t\t\t\t\t: 2 / 0\n",
      "Svt[info]: SVT [config]: sharpness / luminance-based QP bias \t\t\t: 0 / 0\n",
      "Svt[info]: Svt[info]: -------------------------------------------\n",
      "/Users/jonas/Projects/lerobot/lerobot/record.py:212: DeprecationWarning: since 0.23.0: Use `Scalars` instead.\n",
      "  rr.log(f\"observation.{obs}\", rr.Scalar(val))\n",
      "/Users/jonas/Projects/lerobot/lerobot/record.py:217: DeprecationWarning: since 0.23.0: Use `Scalars` instead.\n",
      "  rr.log(f\"action.{act}\", rr.Scalar(val))\n"
     ]
    },
    {
     "name": "stdout",
     "output_type": "stream",
     "text": [
      "Right arrow key pressed. Exiting loop...\n"
     ]
    },
    {
     "name": "stderr",
     "output_type": "stream",
     "text": [
      "/Users/jonas/Projects/lerobot/lerobot/record.py:212: DeprecationWarning: since 0.23.0: Use `Scalars` instead.\n",
      "  rr.log(f\"observation.{obs}\", rr.Scalar(val))\n",
      "/Users/jonas/Projects/lerobot/lerobot/record.py:217: DeprecationWarning: since 0.23.0: Use `Scalars` instead.\n",
      "  rr.log(f\"action.{act}\", rr.Scalar(val))\n"
     ]
    },
    {
     "name": "stdout",
     "output_type": "stream",
     "text": [
      "Right arrow key pressed. Exiting loop...\n"
     ]
    },
    {
     "name": "stderr",
     "output_type": "stream",
     "text": [
      "Map: 100%|██████████| 709/709 [00:00<00:00, 7029.34 examples/s]\n",
      "Creating parquet from Arrow format: 100%|██████████| 1/1 [00:00<00:00, 1524.09ba/s]\n",
      "Svt[info]: -------------------------------------------\n",
      "Svt[info]: SVT [version]:\tSVT-AV1 Encoder Lib v3.0.0\n",
      "Svt[info]: SVT [build]  :\tApple LLVM 15.0.0 (clang-1500.3.9.4)\t 64 bit\n",
      "Svt[info]: LIB Build date: May 16 2025 15:44:08\n",
      "Svt[info]: -------------------------------------------\n",
      "Svt[info]: Level of Parallelism: 4\n",
      "Svt[info]: Number of PPCS 59\n",
      "Svt[info]: [asm level on system : up to neon_i8mm]\n",
      "Svt[info]: [asm level selected : up to neon_i8mm]\n",
      "Svt[info]: -------------------------------------------\n",
      "Svt[info]: SVT [config]: main profile\ttier (auto)\tlevel (auto)\n",
      "Svt[info]: SVT [config]: width / height / fps numerator / fps denominator \t\t: 1920 / 1080 / 30 / 1\n",
      "Svt[info]: SVT [config]: bit-depth / color format \t\t\t\t\t: 8 / YUV420\n",
      "Svt[info]: SVT [config]: preset / tune / pred struct \t\t\t\t\t: 8 / PSNR / random access\n",
      "Svt[info]: SVT [config]: gop size / mini-gop size / key-frame type \t\t\t: 2 / 16 / key frame\n",
      "Svt[info]: SVT [config]: BRC mode / rate factor \t\t\t\t\t: CRF / 30 \n",
      "Svt[info]: SVT [config]: AQ mode / variance boost \t\t\t\t\t: 2 / 0\n",
      "Svt[info]: SVT [config]: sharpness / luminance-based QP bias \t\t\t: 0 / 0\n",
      "Svt[info]: Svt[info]: -------------------------------------------\n",
      "/Users/jonas/Projects/lerobot/lerobot/record.py:212: DeprecationWarning: since 0.23.0: Use `Scalars` instead.\n",
      "  rr.log(f\"observation.{obs}\", rr.Scalar(val))\n",
      "/Users/jonas/Projects/lerobot/lerobot/record.py:217: DeprecationWarning: since 0.23.0: Use `Scalars` instead.\n",
      "  rr.log(f\"action.{act}\", rr.Scalar(val))\n"
     ]
    },
    {
     "name": "stdout",
     "output_type": "stream",
     "text": [
      "Right arrow key pressed. Exiting loop...\n"
     ]
    },
    {
     "name": "stderr",
     "output_type": "stream",
     "text": [
      "/Users/jonas/Projects/lerobot/lerobot/record.py:212: DeprecationWarning: since 0.23.0: Use `Scalars` instead.\n",
      "  rr.log(f\"observation.{obs}\", rr.Scalar(val))\n",
      "/Users/jonas/Projects/lerobot/lerobot/record.py:217: DeprecationWarning: since 0.23.0: Use `Scalars` instead.\n",
      "  rr.log(f\"action.{act}\", rr.Scalar(val))\n"
     ]
    },
    {
     "name": "stdout",
     "output_type": "stream",
     "text": [
      "Right arrow key pressed. Exiting loop...\n"
     ]
    },
    {
     "name": "stderr",
     "output_type": "stream",
     "text": [
      "Map: 100%|██████████| 631/631 [00:00<00:00, 6958.62 examples/s]\n",
      "Creating parquet from Arrow format: 100%|██████████| 1/1 [00:00<00:00, 1766.77ba/s]\n",
      "Svt[info]: -------------------------------------------\n",
      "Svt[info]: SVT [version]:\tSVT-AV1 Encoder Lib v3.0.0\n",
      "Svt[info]: SVT [build]  :\tApple LLVM 15.0.0 (clang-1500.3.9.4)\t 64 bit\n",
      "Svt[info]: LIB Build date: May 16 2025 15:44:08\n",
      "Svt[info]: -------------------------------------------\n",
      "Svt[info]: Level of Parallelism: 4\n",
      "Svt[info]: Number of PPCS 59\n",
      "Svt[info]: [asm level on system : up to neon_i8mm]\n",
      "Svt[info]: [asm level selected : up to neon_i8mm]\n",
      "Svt[info]: -------------------------------------------\n",
      "Svt[info]: SVT [config]: main profile\ttier (auto)\tlevel (auto)\n",
      "Svt[info]: SVT [config]: width / height / fps numerator / fps denominator \t\t: 1920 / 1080 / 30 / 1\n",
      "Svt[info]: SVT [config]: bit-depth / color format \t\t\t\t\t: 8 / YUV420\n",
      "Svt[info]: SVT [config]: preset / tune / pred struct \t\t\t\t\t: 8 / PSNR / random access\n",
      "Svt[info]: SVT [config]: gop size / mini-gop size / key-frame type \t\t\t: 2 / 16 / key frame\n",
      "Svt[info]: SVT [config]: BRC mode / rate factor \t\t\t\t\t: CRF / 30 \n",
      "Svt[info]: SVT [config]: AQ mode / variance boost \t\t\t\t\t: 2 / 0\n",
      "Svt[info]: SVT [config]: sharpness / luminance-based QP bias \t\t\t: 0 / 0\n",
      "Svt[info]: Svt[info]: -------------------------------------------\n",
      "/Users/jonas/Projects/lerobot/lerobot/record.py:212: DeprecationWarning: since 0.23.0: Use `Scalars` instead.\n",
      "  rr.log(f\"observation.{obs}\", rr.Scalar(val))\n",
      "/Users/jonas/Projects/lerobot/lerobot/record.py:217: DeprecationWarning: since 0.23.0: Use `Scalars` instead.\n",
      "  rr.log(f\"action.{act}\", rr.Scalar(val))\n"
     ]
    },
    {
     "name": "stdout",
     "output_type": "stream",
     "text": [
      "Right arrow key pressed. Exiting loop...\n"
     ]
    },
    {
     "name": "stderr",
     "output_type": "stream",
     "text": [
      "/Users/jonas/Projects/lerobot/lerobot/record.py:212: DeprecationWarning: since 0.23.0: Use `Scalars` instead.\n",
      "  rr.log(f\"observation.{obs}\", rr.Scalar(val))\n",
      "/Users/jonas/Projects/lerobot/lerobot/record.py:217: DeprecationWarning: since 0.23.0: Use `Scalars` instead.\n",
      "  rr.log(f\"action.{act}\", rr.Scalar(val))\n"
     ]
    },
    {
     "name": "stdout",
     "output_type": "stream",
     "text": [
      "Right arrow key pressed. Exiting loop...\n"
     ]
    },
    {
     "name": "stderr",
     "output_type": "stream",
     "text": [
      "Map: 100%|██████████| 696/696 [00:00<00:00, 6992.65 examples/s]\n",
      "Creating parquet from Arrow format: 100%|██████████| 1/1 [00:00<00:00, 1818.08ba/s]\n",
      "Svt[info]: -------------------------------------------\n",
      "Svt[info]: SVT [version]:\tSVT-AV1 Encoder Lib v3.0.0\n",
      "Svt[info]: SVT [build]  :\tApple LLVM 15.0.0 (clang-1500.3.9.4)\t 64 bit\n",
      "Svt[info]: LIB Build date: May 16 2025 15:44:08\n",
      "Svt[info]: -------------------------------------------\n",
      "Svt[info]: Level of Parallelism: 4\n",
      "Svt[info]: Number of PPCS 59\n",
      "Svt[info]: [asm level on system : up to neon_i8mm]\n",
      "Svt[info]: [asm level selected : up to neon_i8mm]\n",
      "Svt[info]: -------------------------------------------\n",
      "Svt[info]: SVT [config]: main profile\ttier (auto)\tlevel (auto)\n",
      "Svt[info]: SVT [config]: width / height / fps numerator / fps denominator \t\t: 1920 / 1080 / 30 / 1\n",
      "Svt[info]: SVT [config]: bit-depth / color format \t\t\t\t\t: 8 / YUV420\n",
      "Svt[info]: SVT [config]: preset / tune / pred struct \t\t\t\t\t: 8 / PSNR / random access\n",
      "Svt[info]: SVT [config]: gop size / mini-gop size / key-frame type \t\t\t: 2 / 16 / key frame\n",
      "Svt[info]: SVT [config]: BRC mode / rate factor \t\t\t\t\t: CRF / 30 \n",
      "Svt[info]: SVT [config]: AQ mode / variance boost \t\t\t\t\t: 2 / 0\n",
      "Svt[info]: SVT [config]: sharpness / luminance-based QP bias \t\t\t: 0 / 0\n",
      "Svt[info]: Svt[info]: -------------------------------------------\n",
      "/Users/jonas/Projects/lerobot/lerobot/record.py:212: DeprecationWarning: since 0.23.0: Use `Scalars` instead.\n",
      "  rr.log(f\"observation.{obs}\", rr.Scalar(val))\n",
      "/Users/jonas/Projects/lerobot/lerobot/record.py:217: DeprecationWarning: since 0.23.0: Use `Scalars` instead.\n",
      "  rr.log(f\"action.{act}\", rr.Scalar(val))\n"
     ]
    },
    {
     "name": "stdout",
     "output_type": "stream",
     "text": [
      "Right arrow key pressed. Exiting loop...\n"
     ]
    },
    {
     "name": "stderr",
     "output_type": "stream",
     "text": [
      "/Users/jonas/Projects/lerobot/lerobot/record.py:212: DeprecationWarning: since 0.23.0: Use `Scalars` instead.\n",
      "  rr.log(f\"observation.{obs}\", rr.Scalar(val))\n",
      "/Users/jonas/Projects/lerobot/lerobot/record.py:217: DeprecationWarning: since 0.23.0: Use `Scalars` instead.\n",
      "  rr.log(f\"action.{act}\", rr.Scalar(val))\n"
     ]
    },
    {
     "name": "stdout",
     "output_type": "stream",
     "text": [
      "Right arrow key pressed. Exiting loop...\n"
     ]
    },
    {
     "name": "stderr",
     "output_type": "stream",
     "text": [
      "Map: 100%|██████████| 670/670 [00:00<00:00, 6954.54 examples/s]\n",
      "Creating parquet from Arrow format: 100%|██████████| 1/1 [00:00<00:00, 1655.21ba/s]\n",
      "Svt[info]: -------------------------------------------\n",
      "Svt[info]: SVT [version]:\tSVT-AV1 Encoder Lib v3.0.0\n",
      "Svt[info]: SVT [build]  :\tApple LLVM 15.0.0 (clang-1500.3.9.4)\t 64 bit\n",
      "Svt[info]: LIB Build date: May 16 2025 15:44:08\n",
      "Svt[info]: -------------------------------------------\n",
      "Svt[info]: Level of Parallelism: 4\n",
      "Svt[info]: Number of PPCS 59\n",
      "Svt[info]: [asm level on system : up to neon_i8mm]\n",
      "Svt[info]: [asm level selected : up to neon_i8mm]\n",
      "Svt[info]: -------------------------------------------\n",
      "Svt[info]: SVT [config]: main profile\ttier (auto)\tlevel (auto)\n",
      "Svt[info]: SVT [config]: width / height / fps numerator / fps denominator \t\t: 1920 / 1080 / 30 / 1\n",
      "Svt[info]: SVT [config]: bit-depth / color format \t\t\t\t\t: 8 / YUV420\n",
      "Svt[info]: SVT [config]: preset / tune / pred struct \t\t\t\t\t: 8 / PSNR / random access\n",
      "Svt[info]: SVT [config]: gop size / mini-gop size / key-frame type \t\t\t: 2 / 16 / key frame\n",
      "Svt[info]: SVT [config]: BRC mode / rate factor \t\t\t\t\t: CRF / 30 \n",
      "Svt[info]: SVT [config]: AQ mode / variance boost \t\t\t\t\t: 2 / 0\n",
      "Svt[info]: SVT [config]: sharpness / luminance-based QP bias \t\t\t: 0 / 0\n",
      "Svt[info]: Svt[info]: -------------------------------------------\n",
      "/Users/jonas/Projects/lerobot/lerobot/record.py:212: DeprecationWarning: since 0.23.0: Use `Scalars` instead.\n",
      "  rr.log(f\"observation.{obs}\", rr.Scalar(val))\n",
      "/Users/jonas/Projects/lerobot/lerobot/record.py:217: DeprecationWarning: since 0.23.0: Use `Scalars` instead.\n",
      "  rr.log(f\"action.{act}\", rr.Scalar(val))\n"
     ]
    },
    {
     "name": "stdout",
     "output_type": "stream",
     "text": [
      "Right arrow key pressed. Exiting loop...\n"
     ]
    },
    {
     "name": "stderr",
     "output_type": "stream",
     "text": [
      "/Users/jonas/Projects/lerobot/lerobot/record.py:212: DeprecationWarning: since 0.23.0: Use `Scalars` instead.\n",
      "  rr.log(f\"observation.{obs}\", rr.Scalar(val))\n",
      "/Users/jonas/Projects/lerobot/lerobot/record.py:217: DeprecationWarning: since 0.23.0: Use `Scalars` instead.\n",
      "  rr.log(f\"action.{act}\", rr.Scalar(val))\n"
     ]
    },
    {
     "name": "stdout",
     "output_type": "stream",
     "text": [
      "Right arrow key pressed. Exiting loop...\n"
     ]
    },
    {
     "name": "stderr",
     "output_type": "stream",
     "text": [
      "Map: 100%|██████████| 801/801 [00:00<00:00, 7006.29 examples/s]\n",
      "Creating parquet from Arrow format: 100%|██████████| 1/1 [00:00<00:00, 1205.95ba/s]\n",
      "Svt[info]: -------------------------------------------\n",
      "Svt[info]: SVT [version]:\tSVT-AV1 Encoder Lib v3.0.0\n",
      "Svt[info]: SVT [build]  :\tApple LLVM 15.0.0 (clang-1500.3.9.4)\t 64 bit\n",
      "Svt[info]: LIB Build date: May 16 2025 15:44:08\n",
      "Svt[info]: -------------------------------------------\n",
      "Svt[info]: Level of Parallelism: 4\n",
      "Svt[info]: Number of PPCS 59\n",
      "Svt[info]: [asm level on system : up to neon_i8mm]\n",
      "Svt[info]: [asm level selected : up to neon_i8mm]\n",
      "Svt[info]: -------------------------------------------\n",
      "Svt[info]: SVT [config]: main profile\ttier (auto)\tlevel (auto)\n",
      "Svt[info]: SVT [config]: width / height / fps numerator / fps denominator \t\t: 1920 / 1080 / 30 / 1\n",
      "Svt[info]: SVT [config]: bit-depth / color format \t\t\t\t\t: 8 / YUV420\n",
      "Svt[info]: SVT [config]: preset / tune / pred struct \t\t\t\t\t: 8 / PSNR / random access\n",
      "Svt[info]: SVT [config]: gop size / mini-gop size / key-frame type \t\t\t: 2 / 16 / key frame\n",
      "Svt[info]: SVT [config]: BRC mode / rate factor \t\t\t\t\t: CRF / 30 \n",
      "Svt[info]: SVT [config]: AQ mode / variance boost \t\t\t\t\t: 2 / 0\n",
      "Svt[info]: SVT [config]: sharpness / luminance-based QP bias \t\t\t: 0 / 0\n",
      "Svt[info]: Svt[info]: -------------------------------------------\n",
      "/Users/jonas/Projects/lerobot/lerobot/record.py:212: DeprecationWarning: since 0.23.0: Use `Scalars` instead.\n",
      "  rr.log(f\"observation.{obs}\", rr.Scalar(val))\n",
      "/Users/jonas/Projects/lerobot/lerobot/record.py:217: DeprecationWarning: since 0.23.0: Use `Scalars` instead.\n",
      "  rr.log(f\"action.{act}\", rr.Scalar(val))\n"
     ]
    },
    {
     "name": "stdout",
     "output_type": "stream",
     "text": [
      "Right arrow key pressed. Exiting loop...\n"
     ]
    },
    {
     "name": "stderr",
     "output_type": "stream",
     "text": [
      "/Users/jonas/Projects/lerobot/lerobot/record.py:212: DeprecationWarning: since 0.23.0: Use `Scalars` instead.\n",
      "  rr.log(f\"observation.{obs}\", rr.Scalar(val))\n",
      "/Users/jonas/Projects/lerobot/lerobot/record.py:217: DeprecationWarning: since 0.23.0: Use `Scalars` instead.\n",
      "  rr.log(f\"action.{act}\", rr.Scalar(val))\n"
     ]
    },
    {
     "name": "stdout",
     "output_type": "stream",
     "text": [
      "Right arrow key pressed. Exiting loop...\n"
     ]
    },
    {
     "name": "stderr",
     "output_type": "stream",
     "text": [
      "Map: 100%|██████████| 778/778 [00:00<00:00, 7221.24 examples/s]\n",
      "Creating parquet from Arrow format: 100%|██████████| 1/1 [00:00<00:00, 1517.48ba/s]\n",
      "Svt[info]: -------------------------------------------\n",
      "Svt[info]: SVT [version]:\tSVT-AV1 Encoder Lib v3.0.0\n",
      "Svt[info]: SVT [build]  :\tApple LLVM 15.0.0 (clang-1500.3.9.4)\t 64 bit\n",
      "Svt[info]: LIB Build date: May 16 2025 15:44:08\n",
      "Svt[info]: -------------------------------------------\n",
      "Svt[info]: Level of Parallelism: 4\n",
      "Svt[info]: Number of PPCS 59\n",
      "Svt[info]: [asm level on system : up to neon_i8mm]\n",
      "Svt[info]: [asm level selected : up to neon_i8mm]\n",
      "Svt[info]: -------------------------------------------\n",
      "Svt[info]: SVT [config]: main profile\ttier (auto)\tlevel (auto)\n",
      "Svt[info]: SVT [config]: width / height / fps numerator / fps denominator \t\t: 1920 / 1080 / 30 / 1\n",
      "Svt[info]: SVT [config]: bit-depth / color format \t\t\t\t\t: 8 / YUV420\n",
      "Svt[info]: SVT [config]: preset / tune / pred struct \t\t\t\t\t: 8 / PSNR / random access\n",
      "Svt[info]: SVT [config]: gop size / mini-gop size / key-frame type \t\t\t: 2 / 16 / key frame\n",
      "Svt[info]: SVT [config]: BRC mode / rate factor \t\t\t\t\t: CRF / 30 \n",
      "Svt[info]: SVT [config]: AQ mode / variance boost \t\t\t\t\t: 2 / 0\n",
      "Svt[info]: SVT [config]: sharpness / luminance-based QP bias \t\t\t: 0 / 0\n",
      "Svt[info]: Svt[info]: -------------------------------------------\n",
      "/Users/jonas/Projects/lerobot/lerobot/record.py:212: DeprecationWarning: since 0.23.0: Use `Scalars` instead.\n",
      "  rr.log(f\"observation.{obs}\", rr.Scalar(val))\n",
      "/Users/jonas/Projects/lerobot/lerobot/record.py:217: DeprecationWarning: since 0.23.0: Use `Scalars` instead.\n",
      "  rr.log(f\"action.{act}\", rr.Scalar(val))\n"
     ]
    },
    {
     "name": "stdout",
     "output_type": "stream",
     "text": [
      "Right arrow key pressed. Exiting loop...\n"
     ]
    },
    {
     "name": "stderr",
     "output_type": "stream",
     "text": [
      "/Users/jonas/Projects/lerobot/lerobot/record.py:212: DeprecationWarning: since 0.23.0: Use `Scalars` instead.\n",
      "  rr.log(f\"observation.{obs}\", rr.Scalar(val))\n",
      "/Users/jonas/Projects/lerobot/lerobot/record.py:217: DeprecationWarning: since 0.23.0: Use `Scalars` instead.\n",
      "  rr.log(f\"action.{act}\", rr.Scalar(val))\n"
     ]
    },
    {
     "name": "stdout",
     "output_type": "stream",
     "text": [
      "Right arrow key pressed. Exiting loop...\n"
     ]
    },
    {
     "name": "stderr",
     "output_type": "stream",
     "text": [
      "Map: 100%|██████████| 811/811 [00:00<00:00, 6861.30 examples/s]\n",
      "Creating parquet from Arrow format: 100%|██████████| 1/1 [00:00<00:00, 1524.09ba/s]\n",
      "Svt[info]: -------------------------------------------\n",
      "Svt[info]: SVT [version]:\tSVT-AV1 Encoder Lib v3.0.0\n",
      "Svt[info]: SVT [build]  :\tApple LLVM 15.0.0 (clang-1500.3.9.4)\t 64 bit\n",
      "Svt[info]: LIB Build date: May 16 2025 15:44:08\n",
      "Svt[info]: -------------------------------------------\n",
      "Svt[info]: Level of Parallelism: 4\n",
      "Svt[info]: Number of PPCS 59\n",
      "Svt[info]: [asm level on system : up to neon_i8mm]\n",
      "Svt[info]: [asm level selected : up to neon_i8mm]\n",
      "Svt[info]: -------------------------------------------\n",
      "Svt[info]: SVT [config]: main profile\ttier (auto)\tlevel (auto)\n",
      "Svt[info]: SVT [config]: width / height / fps numerator / fps denominator \t\t: 1920 / 1080 / 30 / 1\n",
      "Svt[info]: SVT [config]: bit-depth / color format \t\t\t\t\t: 8 / YUV420\n",
      "Svt[info]: SVT [config]: preset / tune / pred struct \t\t\t\t\t: 8 / PSNR / random access\n",
      "Svt[info]: SVT [config]: gop size / mini-gop size / key-frame type \t\t\t: 2 / 16 / key frame\n",
      "Svt[info]: SVT [config]: BRC mode / rate factor \t\t\t\t\t: CRF / 30 \n",
      "Svt[info]: SVT [config]: AQ mode / variance boost \t\t\t\t\t: 2 / 0\n",
      "Svt[info]: SVT [config]: sharpness / luminance-based QP bias \t\t\t: 0 / 0\n",
      "Svt[info]: Svt[info]: -------------------------------------------\n",
      "/Users/jonas/Projects/lerobot/lerobot/record.py:212: DeprecationWarning: since 0.23.0: Use `Scalars` instead.\n",
      "  rr.log(f\"observation.{obs}\", rr.Scalar(val))\n",
      "/Users/jonas/Projects/lerobot/lerobot/record.py:217: DeprecationWarning: since 0.23.0: Use `Scalars` instead.\n",
      "  rr.log(f\"action.{act}\", rr.Scalar(val))\n"
     ]
    },
    {
     "name": "stdout",
     "output_type": "stream",
     "text": [
      "Right arrow key pressed. Exiting loop...\n"
     ]
    },
    {
     "name": "stderr",
     "output_type": "stream",
     "text": [
      "/Users/jonas/Projects/lerobot/lerobot/record.py:212: DeprecationWarning: since 0.23.0: Use `Scalars` instead.\n",
      "  rr.log(f\"observation.{obs}\", rr.Scalar(val))\n",
      "/Users/jonas/Projects/lerobot/lerobot/record.py:217: DeprecationWarning: since 0.23.0: Use `Scalars` instead.\n",
      "  rr.log(f\"action.{act}\", rr.Scalar(val))\n"
     ]
    },
    {
     "name": "stdout",
     "output_type": "stream",
     "text": [
      "Right arrow key pressed. Exiting loop...\n"
     ]
    },
    {
     "name": "stderr",
     "output_type": "stream",
     "text": [
      "Map: 100%|██████████| 522/522 [00:00<00:00, 6835.83 examples/s]\n",
      "Creating parquet from Arrow format: 100%|██████████| 1/1 [00:00<00:00, 1392.99ba/s]\n",
      "Svt[info]: -------------------------------------------\n",
      "Svt[info]: SVT [version]:\tSVT-AV1 Encoder Lib v3.0.0\n",
      "Svt[info]: SVT [build]  :\tApple LLVM 15.0.0 (clang-1500.3.9.4)\t 64 bit\n",
      "Svt[info]: LIB Build date: May 16 2025 15:44:08\n",
      "Svt[info]: -------------------------------------------\n",
      "Svt[info]: Level of Parallelism: 4\n",
      "Svt[info]: Number of PPCS 59\n",
      "Svt[info]: [asm level on system : up to neon_i8mm]\n",
      "Svt[info]: [asm level selected : up to neon_i8mm]\n",
      "Svt[info]: -------------------------------------------\n",
      "Svt[info]: SVT [config]: main profile\ttier (auto)\tlevel (auto)\n",
      "Svt[info]: SVT [config]: width / height / fps numerator / fps denominator \t\t: 1920 / 1080 / 30 / 1\n",
      "Svt[info]: SVT [config]: bit-depth / color format \t\t\t\t\t: 8 / YUV420\n",
      "Svt[info]: SVT [config]: preset / tune / pred struct \t\t\t\t\t: 8 / PSNR / random access\n",
      "Svt[info]: SVT [config]: gop size / mini-gop size / key-frame type \t\t\t: 2 / 16 / key frame\n",
      "Svt[info]: SVT [config]: BRC mode / rate factor \t\t\t\t\t: CRF / 30 \n",
      "Svt[info]: SVT [config]: AQ mode / variance boost \t\t\t\t\t: 2 / 0\n",
      "Svt[info]: SVT [config]: sharpness / luminance-based QP bias \t\t\t: 0 / 0\n",
      "Svt[info]: Svt[info]: -------------------------------------------\n",
      "/Users/jonas/Projects/lerobot/lerobot/record.py:212: DeprecationWarning: since 0.23.0: Use `Scalars` instead.\n",
      "  rr.log(f\"observation.{obs}\", rr.Scalar(val))\n",
      "/Users/jonas/Projects/lerobot/lerobot/record.py:217: DeprecationWarning: since 0.23.0: Use `Scalars` instead.\n",
      "  rr.log(f\"action.{act}\", rr.Scalar(val))\n"
     ]
    },
    {
     "name": "stdout",
     "output_type": "stream",
     "text": [
      "Right arrow key pressed. Exiting loop...\n"
     ]
    },
    {
     "name": "stderr",
     "output_type": "stream",
     "text": [
      "/Users/jonas/Projects/lerobot/lerobot/record.py:212: DeprecationWarning: since 0.23.0: Use `Scalars` instead.\n",
      "  rr.log(f\"observation.{obs}\", rr.Scalar(val))\n",
      "/Users/jonas/Projects/lerobot/lerobot/record.py:217: DeprecationWarning: since 0.23.0: Use `Scalars` instead.\n",
      "  rr.log(f\"action.{act}\", rr.Scalar(val))\n"
     ]
    },
    {
     "name": "stdout",
     "output_type": "stream",
     "text": [
      "Right arrow key pressed. Exiting loop...\n"
     ]
    },
    {
     "name": "stderr",
     "output_type": "stream",
     "text": [
      "Map: 100%|██████████| 701/701 [00:00<00:00, 7016.16 examples/s]\n",
      "Creating parquet from Arrow format: 100%|██████████| 1/1 [00:00<00:00, 1536.38ba/s]\n",
      "Svt[info]: -------------------------------------------\n",
      "Svt[info]: SVT [version]:\tSVT-AV1 Encoder Lib v3.0.0\n",
      "Svt[info]: SVT [build]  :\tApple LLVM 15.0.0 (clang-1500.3.9.4)\t 64 bit\n",
      "Svt[info]: LIB Build date: May 16 2025 15:44:08\n",
      "Svt[info]: -------------------------------------------\n",
      "Svt[info]: Level of Parallelism: 4\n",
      "Svt[info]: Number of PPCS 59\n",
      "Svt[info]: [asm level on system : up to neon_i8mm]\n",
      "Svt[info]: [asm level selected : up to neon_i8mm]\n",
      "Svt[info]: -------------------------------------------\n",
      "Svt[info]: SVT [config]: main profile\ttier (auto)\tlevel (auto)\n",
      "Svt[info]: SVT [config]: width / height / fps numerator / fps denominator \t\t: 1920 / 1080 / 30 / 1\n",
      "Svt[info]: SVT [config]: bit-depth / color format \t\t\t\t\t: 8 / YUV420\n",
      "Svt[info]: SVT [config]: preset / tune / pred struct \t\t\t\t\t: 8 / PSNR / random access\n",
      "Svt[info]: SVT [config]: gop size / mini-gop size / key-frame type \t\t\t: 2 / 16 / key frame\n",
      "Svt[info]: SVT [config]: BRC mode / rate factor \t\t\t\t\t: CRF / 30 \n",
      "Svt[info]: SVT [config]: AQ mode / variance boost \t\t\t\t\t: 2 / 0\n",
      "Svt[info]: SVT [config]: sharpness / luminance-based QP bias \t\t\t: 0 / 0\n",
      "Svt[info]: Svt[info]: -------------------------------------------\n",
      "/Users/jonas/Projects/lerobot/lerobot/record.py:212: DeprecationWarning: since 0.23.0: Use `Scalars` instead.\n",
      "  rr.log(f\"observation.{obs}\", rr.Scalar(val))\n",
      "/Users/jonas/Projects/lerobot/lerobot/record.py:217: DeprecationWarning: since 0.23.0: Use `Scalars` instead.\n",
      "  rr.log(f\"action.{act}\", rr.Scalar(val))\n"
     ]
    },
    {
     "name": "stdout",
     "output_type": "stream",
     "text": [
      "Right arrow key pressed. Exiting loop...\n"
     ]
    },
    {
     "name": "stderr",
     "output_type": "stream",
     "text": [
      "Map: 100%|██████████| 562/562 [00:00<00:00, 6710.92 examples/s]\n",
      "Creating parquet from Arrow format: 100%|██████████| 1/1 [00:00<00:00, 1726.76ba/s]\n",
      "Svt[info]: -------------------------------------------\n",
      "Svt[info]: SVT [version]:\tSVT-AV1 Encoder Lib v3.0.0\n",
      "Svt[info]: SVT [build]  :\tApple LLVM 15.0.0 (clang-1500.3.9.4)\t 64 bit\n",
      "Svt[info]: LIB Build date: May 16 2025 15:44:08\n",
      "Svt[info]: -------------------------------------------\n",
      "Svt[info]: Level of Parallelism: 4\n",
      "Svt[info]: Number of PPCS 59\n",
      "Svt[info]: [asm level on system : up to neon_i8mm]\n",
      "Svt[info]: [asm level selected : up to neon_i8mm]\n",
      "Svt[info]: -------------------------------------------\n",
      "Svt[info]: SVT [config]: main profile\ttier (auto)\tlevel (auto)\n",
      "Svt[info]: SVT [config]: width / height / fps numerator / fps denominator \t\t: 1920 / 1080 / 30 / 1\n",
      "Svt[info]: SVT [config]: bit-depth / color format \t\t\t\t\t: 8 / YUV420\n",
      "Svt[info]: SVT [config]: preset / tune / pred struct \t\t\t\t\t: 8 / PSNR / random access\n",
      "Svt[info]: SVT [config]: gop size / mini-gop size / key-frame type \t\t\t: 2 / 16 / key frame\n",
      "Svt[info]: SVT [config]: BRC mode / rate factor \t\t\t\t\t: CRF / 30 \n",
      "Svt[info]: SVT [config]: AQ mode / variance boost \t\t\t\t\t: 2 / 0\n",
      "Svt[info]: SVT [config]: sharpness / luminance-based QP bias \t\t\t: 0 / 0\n",
      "Svt[info]: Svt[info]: -------------------------------------------\n"
     ]
    },
    {
     "data": {
      "text/plain": [
       "CompletedProcess(args=['python', '-m', 'lerobot.record', '--robot.type=so101_follower', '--robot.port=/dev/tty.usbmodem5A680109821', '--robot.id=my_so101_follower', '--robot.cameras={\"front\": {\"type\": \"opencv\", \"index_or_path\": 1, \"width\": 1920, \"height\": 1080, \"fps\": 30}}', '--teleop.type=so101_leader', '--teleop.port=/dev/tty.usbmodem5A680109791', '--teleop.id=my_so101_leader', '--display_data=true', '--dataset.repo_id=rhinopithecus/so101_pickandplace_whitecube_redbox_20250619_1009', '--dataset.num_episodes=30', '--dataset.single_task=Pick the white cube and place it in the red box', '--dataset.episode_time_s=40', '--dataset.reset_time_s=20'], returncode=0)"
      ]
     },
     "execution_count": 19,
     "metadata": {},
     "output_type": "execute_result"
    }
   ],
   "source": [
    "# Set dynamic variables\n",
    "timestamp = datetime.now().strftime(\"%Y%m%d_%H%M\")\n",
    "repo_id = f\"{hf_user}/so101_pickandplace_whitecube_redbox_{timestamp}\"\n",
    "#repo_id = f\"{hf_user}/so101_pickandplace_test8\" # test datasets\n",
    "\n",
    "# Build the command as a list for subprocess\n",
    "command = [\n",
    "    \"python\", \"-m\", \"lerobot.record\",\n",
    "    \"--robot.type=so101_follower\",\n",
    "    \"--robot.port=/dev/tty.usbmodem5A680109821\",\n",
    "    \"--robot.id=my_so101_follower\",\n",
    "    '--robot.cameras={\"front\": {\"type\": \"opencv\", \"index_or_path\": 1, \"width\": 1920, \"height\": 1080, \"fps\": 30}}',\n",
    "    \"--teleop.type=so101_leader\",\n",
    "    \"--teleop.port=/dev/tty.usbmodem5A680109791\",\n",
    "    \"--teleop.id=my_so101_leader\",\n",
    "    \"--display_data=true\",\n",
    "    f\"--dataset.repo_id={repo_id}\",\n",
    "    \"--dataset.num_episodes=30\",\n",
    "    '--dataset.single_task=Pick the white cube and place it in the red box',\n",
    "    '--dataset.episode_time_s=40',\n",
    "    '--dataset.reset_time_s=20'\n",
    "]\n",
    "\n",
    "# Run it\n",
    "subprocess.run(command, check=True)"
   ]
  },
  {
   "cell_type": "markdown",
   "id": "23330c53",
   "metadata": {},
   "source": [
    "## Check available datasets for task"
   ]
  },
  {
   "cell_type": "code",
   "execution_count": null,
   "id": "551f2255",
   "metadata": {},
   "outputs": [
    {
     "name": "stdout",
     "output_type": "stream",
     "text": [
      "Discovered matching datasets:\n",
      " - rhinopithecus/so101_pickandplace_whitecube_redbox_20250619_1009\n"
     ]
    }
   ],
   "source": [
    "\n",
    "\n",
    "all_datasets = HfApi().list_datasets(author=hf_user)\n",
    "repo_ids = [d.id for d in all_datasets if \"pickandplace_whitecube_redbox\" in d.id]\n",
    "\n",
    "print(\"Discovered matching datasets:\")\n",
    "for r in repo_ids:\n",
    "    print(\" -\", r)\n"
   ]
  },
  {
   "cell_type": "markdown",
   "id": "68d0aea4",
   "metadata": {},
   "source": [
    "## Model Training"
   ]
  },
  {
   "cell_type": "code",
   "execution_count": null,
   "id": "bd2a4563",
   "metadata": {},
   "outputs": [],
   "source": []
  }
 ],
 "metadata": {
  "kernelspec": {
   "display_name": "lerobot",
   "language": "python",
   "name": "python3"
  },
  "language_info": {
   "codemirror_mode": {
    "name": "ipython",
    "version": 3
   },
   "file_extension": ".py",
   "mimetype": "text/x-python",
   "name": "python",
   "nbconvert_exporter": "python",
   "pygments_lexer": "ipython3",
   "version": "3.10.16"
  }
 },
 "nbformat": 4,
 "nbformat_minor": 5
}
